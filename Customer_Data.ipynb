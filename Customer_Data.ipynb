{
 "cells": [
  {
   "cell_type": "code",
   "execution_count": 1,
   "id": "c2089d35-38bc-4466-9cea-cefd274010eb",
   "metadata": {},
   "outputs": [],
   "source": [
    "import numpy as np\n",
    "import pandas as pd\n",
    "from sklearn.decomposition import PCA\n",
    "import plotly.graph_objects as go"
   ]
  },
  {
   "cell_type": "code",
   "execution_count": 2,
   "id": "61224003-9004-41f4-956d-e1a39e70a2ec",
   "metadata": {},
   "outputs": [],
   "source": [
    "accounts = pd.read_csv('twm_accounts.csv', sep = ';')\n",
    "checking_acct = pd.read_csv('twm_checking_acct.csv', sep = ';')\n",
    "checking_tran = pd.read_csv('twm_checking_tran.csv', sep = ';')\n",
    "credit_acct = pd.read_csv('twm_credit_acct.csv', sep = ';')\n",
    "credit_tran = pd.read_csv('twm_credit_tran.csv', sep = ';')\n",
    "customer = pd.read_csv('twm_customer.csv')\n",
    "savings_acct = pd.read_csv('twm_savings_acct.csv', sep = ';')\n",
    "savings_tran = pd.read_csv('twm_savings_tran.csv', sep = ';')\n",
    "transaction = pd.read_csv('twm_transactions.csv', sep = ';')"
   ]
  },
  {
   "cell_type": "code",
   "execution_count": 3,
   "id": "8a2b8b96-f8bf-4b9e-9d19-71548a2d1a1a",
   "metadata": {
    "tags": []
   },
   "outputs": [
    {
     "data": {
      "text/html": [
       "<div>\n",
       "<style scoped>\n",
       "    .dataframe tbody tr th:only-of-type {\n",
       "        vertical-align: middle;\n",
       "    }\n",
       "\n",
       "    .dataframe tbody tr th {\n",
       "        vertical-align: top;\n",
       "    }\n",
       "\n",
       "    .dataframe thead th {\n",
       "        text-align: right;\n",
       "    }\n",
       "</style>\n",
       "<table border=\"1\" class=\"dataframe\">\n",
       "  <thead>\n",
       "    <tr style=\"text-align: right;\">\n",
       "      <th></th>\n",
       "      <th>cust_id</th>\n",
       "      <th>income</th>\n",
       "      <th>age</th>\n",
       "      <th>years_with_bank</th>\n",
       "      <th>nbr_children</th>\n",
       "      <th>gender</th>\n",
       "      <th>marital_status</th>\n",
       "      <th>name_prefix</th>\n",
       "      <th>first_name</th>\n",
       "      <th>last_name</th>\n",
       "      <th>street_nbr</th>\n",
       "      <th>street_name</th>\n",
       "      <th>postal_code</th>\n",
       "      <th>city_name</th>\n",
       "      <th>state_code</th>\n",
       "    </tr>\n",
       "  </thead>\n",
       "  <tbody>\n",
       "    <tr>\n",
       "      <th>0</th>\n",
       "      <td>1362691</td>\n",
       "      <td>26150</td>\n",
       "      <td>46</td>\n",
       "      <td>5</td>\n",
       "      <td>1</td>\n",
       "      <td>M</td>\n",
       "      <td>2</td>\n",
       "      <td></td>\n",
       "      <td>Donald                                        ...</td>\n",
       "      <td>Marek                                         ...</td>\n",
       "      <td>8298</td>\n",
       "      <td>Second                                        ...</td>\n",
       "      <td>89194</td>\n",
       "      <td>Las Vegas</td>\n",
       "      <td>NV</td>\n",
       "    </tr>\n",
       "    <tr>\n",
       "      <th>1</th>\n",
       "      <td>1362487</td>\n",
       "      <td>6605</td>\n",
       "      <td>71</td>\n",
       "      <td>1</td>\n",
       "      <td>0</td>\n",
       "      <td>M</td>\n",
       "      <td>2</td>\n",
       "      <td></td>\n",
       "      <td>ChingDyi                                      ...</td>\n",
       "      <td>Moussavi                                      ...</td>\n",
       "      <td>10603</td>\n",
       "      <td>Daffodil                                      ...</td>\n",
       "      <td>90159</td>\n",
       "      <td>Los Angeles</td>\n",
       "      <td>CA</td>\n",
       "    </tr>\n",
       "    <tr>\n",
       "      <th>2</th>\n",
       "      <td>1363160</td>\n",
       "      <td>18548</td>\n",
       "      <td>38</td>\n",
       "      <td>8</td>\n",
       "      <td>0</td>\n",
       "      <td>F</td>\n",
       "      <td>1</td>\n",
       "      <td></td>\n",
       "      <td>Rosa                                          ...</td>\n",
       "      <td>Johnston                                      ...</td>\n",
       "      <td>8817</td>\n",
       "      <td>Figueroa                                      ...</td>\n",
       "      <td>90024</td>\n",
       "      <td>Los Angeles</td>\n",
       "      <td>CA</td>\n",
       "    </tr>\n",
       "    <tr>\n",
       "      <th>3</th>\n",
       "      <td>1362752</td>\n",
       "      <td>47668</td>\n",
       "      <td>54</td>\n",
       "      <td>3</td>\n",
       "      <td>0</td>\n",
       "      <td>F</td>\n",
       "      <td>1</td>\n",
       "      <td></td>\n",
       "      <td>Lisa                                          ...</td>\n",
       "      <td>Martin                                        ...</td>\n",
       "      <td>676</td>\n",
       "      <td>Humble                                        ...</td>\n",
       "      <td>90172</td>\n",
       "      <td>Los Angeles</td>\n",
       "      <td>CA</td>\n",
       "    </tr>\n",
       "    <tr>\n",
       "      <th>4</th>\n",
       "      <td>1362548</td>\n",
       "      <td>44554</td>\n",
       "      <td>59</td>\n",
       "      <td>9</td>\n",
       "      <td>2</td>\n",
       "      <td>F</td>\n",
       "      <td>4</td>\n",
       "      <td></td>\n",
       "      <td>Barbara                                       ...</td>\n",
       "      <td>O'Malley                                      ...</td>\n",
       "      <td>6578</td>\n",
       "      <td>C                                             ...</td>\n",
       "      <td>10138</td>\n",
       "      <td>New York City</td>\n",
       "      <td>NY</td>\n",
       "    </tr>\n",
       "    <tr>\n",
       "      <th>...</th>\n",
       "      <td>...</td>\n",
       "      <td>...</td>\n",
       "      <td>...</td>\n",
       "      <td>...</td>\n",
       "      <td>...</td>\n",
       "      <td>...</td>\n",
       "      <td>...</td>\n",
       "      <td>...</td>\n",
       "      <td>...</td>\n",
       "      <td>...</td>\n",
       "      <td>...</td>\n",
       "      <td>...</td>\n",
       "      <td>...</td>\n",
       "      <td>...</td>\n",
       "      <td>...</td>\n",
       "    </tr>\n",
       "    <tr>\n",
       "      <th>742</th>\n",
       "      <td>1363324</td>\n",
       "      <td>14795</td>\n",
       "      <td>36</td>\n",
       "      <td>6</td>\n",
       "      <td>1</td>\n",
       "      <td>F</td>\n",
       "      <td>4</td>\n",
       "      <td></td>\n",
       "      <td>Lillian                                       ...</td>\n",
       "      <td>Kaufman                                       ...</td>\n",
       "      <td>9677</td>\n",
       "      <td>B                                             ...</td>\n",
       "      <td>90016</td>\n",
       "      <td>Los Angeles</td>\n",
       "      <td>CA</td>\n",
       "    </tr>\n",
       "    <tr>\n",
       "      <th>743</th>\n",
       "      <td>1362895</td>\n",
       "      <td>26387</td>\n",
       "      <td>56</td>\n",
       "      <td>6</td>\n",
       "      <td>1</td>\n",
       "      <td>M</td>\n",
       "      <td>2</td>\n",
       "      <td></td>\n",
       "      <td>Marty                                         ...</td>\n",
       "      <td>McSherry                                      ...</td>\n",
       "      <td>3227</td>\n",
       "      <td>Inspiration                                   ...</td>\n",
       "      <td>10126</td>\n",
       "      <td>New York City</td>\n",
       "      <td>NY</td>\n",
       "    </tr>\n",
       "    <tr>\n",
       "      <th>744</th>\n",
       "      <td>1362569</td>\n",
       "      <td>61300</td>\n",
       "      <td>50</td>\n",
       "      <td>0</td>\n",
       "      <td>2</td>\n",
       "      <td>M</td>\n",
       "      <td>2</td>\n",
       "      <td></td>\n",
       "      <td>Ken                                           ...</td>\n",
       "      <td>Lawrence                                      ...</td>\n",
       "      <td>6082</td>\n",
       "      <td>23rd                                          ...</td>\n",
       "      <td>87194</td>\n",
       "      <td>Albuquerque</td>\n",
       "      <td>NM</td>\n",
       "    </tr>\n",
       "    <tr>\n",
       "      <th>745</th>\n",
       "      <td>1363364</td>\n",
       "      <td>15100</td>\n",
       "      <td>37</td>\n",
       "      <td>7</td>\n",
       "      <td>0</td>\n",
       "      <td>F</td>\n",
       "      <td>2</td>\n",
       "      <td></td>\n",
       "      <td>Debbie                                        ...</td>\n",
       "      <td>Runner                                        ...</td>\n",
       "      <td>7851</td>\n",
       "      <td>H                                             ...</td>\n",
       "      <td>35241</td>\n",
       "      <td>Birmingham</td>\n",
       "      <td>AL</td>\n",
       "    </tr>\n",
       "    <tr>\n",
       "      <th>746</th>\n",
       "      <td>1363303</td>\n",
       "      <td>17875</td>\n",
       "      <td>18</td>\n",
       "      <td>3</td>\n",
       "      <td>0</td>\n",
       "      <td>F</td>\n",
       "      <td>1</td>\n",
       "      <td></td>\n",
       "      <td>Molly                                         ...</td>\n",
       "      <td>Potter                                        ...</td>\n",
       "      <td>7824</td>\n",
       "      <td>E                                             ...</td>\n",
       "      <td>90029</td>\n",
       "      <td>Los Angeles</td>\n",
       "      <td>CA</td>\n",
       "    </tr>\n",
       "  </tbody>\n",
       "</table>\n",
       "<p>747 rows × 15 columns</p>\n",
       "</div>"
      ],
      "text/plain": [
       "     cust_id  income  age  years_with_bank  nbr_children gender  \\\n",
       "0    1362691   26150   46                5             1     M    \n",
       "1    1362487    6605   71                1             0     M    \n",
       "2    1363160   18548   38                8             0     F    \n",
       "3    1362752   47668   54                3             0     F    \n",
       "4    1362548   44554   59                9             2     F    \n",
       "..       ...     ...  ...              ...           ...    ...   \n",
       "742  1363324   14795   36                6             1     F    \n",
       "743  1362895   26387   56                6             1     M    \n",
       "744  1362569   61300   50                0             2     M    \n",
       "745  1363364   15100   37                7             0     F    \n",
       "746  1363303   17875   18                3             0     F    \n",
       "\n",
       "     marital_status name_prefix  \\\n",
       "0                 2               \n",
       "1                 2               \n",
       "2                 1               \n",
       "3                 1               \n",
       "4                 4               \n",
       "..              ...         ...   \n",
       "742               4               \n",
       "743               2               \n",
       "744               2               \n",
       "745               2               \n",
       "746               1               \n",
       "\n",
       "                                            first_name  \\\n",
       "0    Donald                                        ...   \n",
       "1    ChingDyi                                      ...   \n",
       "2    Rosa                                          ...   \n",
       "3    Lisa                                          ...   \n",
       "4    Barbara                                       ...   \n",
       "..                                                 ...   \n",
       "742  Lillian                                       ...   \n",
       "743  Marty                                         ...   \n",
       "744  Ken                                           ...   \n",
       "745  Debbie                                        ...   \n",
       "746  Molly                                         ...   \n",
       "\n",
       "                                             last_name  street_nbr  \\\n",
       "0    Marek                                         ...        8298   \n",
       "1    Moussavi                                      ...       10603   \n",
       "2    Johnston                                      ...        8817   \n",
       "3    Martin                                        ...         676   \n",
       "4    O'Malley                                      ...        6578   \n",
       "..                                                 ...         ...   \n",
       "742  Kaufman                                       ...        9677   \n",
       "743  McSherry                                      ...        3227   \n",
       "744  Lawrence                                      ...        6082   \n",
       "745  Runner                                        ...        7851   \n",
       "746  Potter                                        ...        7824   \n",
       "\n",
       "                                           street_name  postal_code  \\\n",
       "0    Second                                        ...        89194   \n",
       "1    Daffodil                                      ...        90159   \n",
       "2    Figueroa                                      ...        90024   \n",
       "3    Humble                                        ...        90172   \n",
       "4    C                                             ...        10138   \n",
       "..                                                 ...          ...   \n",
       "742  B                                             ...        90016   \n",
       "743  Inspiration                                   ...        10126   \n",
       "744  23rd                                          ...        87194   \n",
       "745  H                                             ...        35241   \n",
       "746  E                                             ...        90029   \n",
       "\n",
       "                                    city_name state_code  \n",
       "0    Las Vegas                                      NV    \n",
       "1    Los Angeles                                    CA    \n",
       "2    Los Angeles                                    CA    \n",
       "3    Los Angeles                                    CA    \n",
       "4    New York City                                  NY    \n",
       "..                                        ...        ...  \n",
       "742  Los Angeles                                    CA    \n",
       "743  New York City                                  NY    \n",
       "744  Albuquerque                                    NM    \n",
       "745  Birmingham                                     AL    \n",
       "746  Los Angeles                                    CA    \n",
       "\n",
       "[747 rows x 15 columns]"
      ]
     },
     "execution_count": 3,
     "metadata": {},
     "output_type": "execute_result"
    }
   ],
   "source": [
    "customer"
   ]
  },
  {
   "cell_type": "code",
   "execution_count": 4,
   "id": "830aef89-36c0-4f57-a54c-4604a51d6bd1",
   "metadata": {
    "tags": []
   },
   "outputs": [
    {
     "data": {
      "text/html": [
       "<div>\n",
       "<style scoped>\n",
       "    .dataframe tbody tr th:only-of-type {\n",
       "        vertical-align: middle;\n",
       "    }\n",
       "\n",
       "    .dataframe tbody tr th {\n",
       "        vertical-align: top;\n",
       "    }\n",
       "\n",
       "    .dataframe thead th {\n",
       "        text-align: right;\n",
       "    }\n",
       "</style>\n",
       "<table border=\"1\" class=\"dataframe\">\n",
       "  <thead>\n",
       "    <tr style=\"text-align: right;\">\n",
       "      <th></th>\n",
       "      <th>cust_id</th>\n",
       "      <th>income</th>\n",
       "      <th>age</th>\n",
       "      <th>years_with_bank</th>\n",
       "      <th>nbr_children</th>\n",
       "      <th>gender</th>\n",
       "      <th>marital_status</th>\n",
       "      <th>name_prefix</th>\n",
       "      <th>first_name</th>\n",
       "      <th>last_name</th>\n",
       "      <th>street_nbr</th>\n",
       "      <th>street_name</th>\n",
       "      <th>postal_code</th>\n",
       "      <th>city_name</th>\n",
       "      <th>state_code</th>\n",
       "      <th>age_bin</th>\n",
       "    </tr>\n",
       "  </thead>\n",
       "  <tbody>\n",
       "    <tr>\n",
       "      <th>0</th>\n",
       "      <td>1362691</td>\n",
       "      <td>26150</td>\n",
       "      <td>46</td>\n",
       "      <td>5</td>\n",
       "      <td>1</td>\n",
       "      <td>M</td>\n",
       "      <td>2</td>\n",
       "      <td></td>\n",
       "      <td>Donald                                        ...</td>\n",
       "      <td>Marek                                         ...</td>\n",
       "      <td>8298</td>\n",
       "      <td>Second                                        ...</td>\n",
       "      <td>89194</td>\n",
       "      <td>Las Vegas</td>\n",
       "      <td>NV</td>\n",
       "      <td>3</td>\n",
       "    </tr>\n",
       "    <tr>\n",
       "      <th>1</th>\n",
       "      <td>1362487</td>\n",
       "      <td>6605</td>\n",
       "      <td>71</td>\n",
       "      <td>1</td>\n",
       "      <td>0</td>\n",
       "      <td>M</td>\n",
       "      <td>2</td>\n",
       "      <td></td>\n",
       "      <td>ChingDyi                                      ...</td>\n",
       "      <td>Moussavi                                      ...</td>\n",
       "      <td>10603</td>\n",
       "      <td>Daffodil                                      ...</td>\n",
       "      <td>90159</td>\n",
       "      <td>Los Angeles</td>\n",
       "      <td>CA</td>\n",
       "      <td>4</td>\n",
       "    </tr>\n",
       "    <tr>\n",
       "      <th>2</th>\n",
       "      <td>1363160</td>\n",
       "      <td>18548</td>\n",
       "      <td>38</td>\n",
       "      <td>8</td>\n",
       "      <td>0</td>\n",
       "      <td>F</td>\n",
       "      <td>1</td>\n",
       "      <td></td>\n",
       "      <td>Rosa                                          ...</td>\n",
       "      <td>Johnston                                      ...</td>\n",
       "      <td>8817</td>\n",
       "      <td>Figueroa                                      ...</td>\n",
       "      <td>90024</td>\n",
       "      <td>Los Angeles</td>\n",
       "      <td>CA</td>\n",
       "      <td>2</td>\n",
       "    </tr>\n",
       "    <tr>\n",
       "      <th>3</th>\n",
       "      <td>1362752</td>\n",
       "      <td>47668</td>\n",
       "      <td>54</td>\n",
       "      <td>3</td>\n",
       "      <td>0</td>\n",
       "      <td>F</td>\n",
       "      <td>1</td>\n",
       "      <td></td>\n",
       "      <td>Lisa                                          ...</td>\n",
       "      <td>Martin                                        ...</td>\n",
       "      <td>676</td>\n",
       "      <td>Humble                                        ...</td>\n",
       "      <td>90172</td>\n",
       "      <td>Los Angeles</td>\n",
       "      <td>CA</td>\n",
       "      <td>3</td>\n",
       "    </tr>\n",
       "    <tr>\n",
       "      <th>4</th>\n",
       "      <td>1362548</td>\n",
       "      <td>44554</td>\n",
       "      <td>59</td>\n",
       "      <td>9</td>\n",
       "      <td>2</td>\n",
       "      <td>F</td>\n",
       "      <td>4</td>\n",
       "      <td></td>\n",
       "      <td>Barbara                                       ...</td>\n",
       "      <td>O'Malley                                      ...</td>\n",
       "      <td>6578</td>\n",
       "      <td>C                                             ...</td>\n",
       "      <td>10138</td>\n",
       "      <td>New York City</td>\n",
       "      <td>NY</td>\n",
       "      <td>3</td>\n",
       "    </tr>\n",
       "    <tr>\n",
       "      <th>...</th>\n",
       "      <td>...</td>\n",
       "      <td>...</td>\n",
       "      <td>...</td>\n",
       "      <td>...</td>\n",
       "      <td>...</td>\n",
       "      <td>...</td>\n",
       "      <td>...</td>\n",
       "      <td>...</td>\n",
       "      <td>...</td>\n",
       "      <td>...</td>\n",
       "      <td>...</td>\n",
       "      <td>...</td>\n",
       "      <td>...</td>\n",
       "      <td>...</td>\n",
       "      <td>...</td>\n",
       "      <td>...</td>\n",
       "    </tr>\n",
       "    <tr>\n",
       "      <th>742</th>\n",
       "      <td>1363324</td>\n",
       "      <td>14795</td>\n",
       "      <td>36</td>\n",
       "      <td>6</td>\n",
       "      <td>1</td>\n",
       "      <td>F</td>\n",
       "      <td>4</td>\n",
       "      <td></td>\n",
       "      <td>Lillian                                       ...</td>\n",
       "      <td>Kaufman                                       ...</td>\n",
       "      <td>9677</td>\n",
       "      <td>B                                             ...</td>\n",
       "      <td>90016</td>\n",
       "      <td>Los Angeles</td>\n",
       "      <td>CA</td>\n",
       "      <td>2</td>\n",
       "    </tr>\n",
       "    <tr>\n",
       "      <th>743</th>\n",
       "      <td>1362895</td>\n",
       "      <td>26387</td>\n",
       "      <td>56</td>\n",
       "      <td>6</td>\n",
       "      <td>1</td>\n",
       "      <td>M</td>\n",
       "      <td>2</td>\n",
       "      <td></td>\n",
       "      <td>Marty                                         ...</td>\n",
       "      <td>McSherry                                      ...</td>\n",
       "      <td>3227</td>\n",
       "      <td>Inspiration                                   ...</td>\n",
       "      <td>10126</td>\n",
       "      <td>New York City</td>\n",
       "      <td>NY</td>\n",
       "      <td>3</td>\n",
       "    </tr>\n",
       "    <tr>\n",
       "      <th>744</th>\n",
       "      <td>1362569</td>\n",
       "      <td>61300</td>\n",
       "      <td>50</td>\n",
       "      <td>0</td>\n",
       "      <td>2</td>\n",
       "      <td>M</td>\n",
       "      <td>2</td>\n",
       "      <td></td>\n",
       "      <td>Ken                                           ...</td>\n",
       "      <td>Lawrence                                      ...</td>\n",
       "      <td>6082</td>\n",
       "      <td>23rd                                          ...</td>\n",
       "      <td>87194</td>\n",
       "      <td>Albuquerque</td>\n",
       "      <td>NM</td>\n",
       "      <td>3</td>\n",
       "    </tr>\n",
       "    <tr>\n",
       "      <th>745</th>\n",
       "      <td>1363364</td>\n",
       "      <td>15100</td>\n",
       "      <td>37</td>\n",
       "      <td>7</td>\n",
       "      <td>0</td>\n",
       "      <td>F</td>\n",
       "      <td>2</td>\n",
       "      <td></td>\n",
       "      <td>Debbie                                        ...</td>\n",
       "      <td>Runner                                        ...</td>\n",
       "      <td>7851</td>\n",
       "      <td>H                                             ...</td>\n",
       "      <td>35241</td>\n",
       "      <td>Birmingham</td>\n",
       "      <td>AL</td>\n",
       "      <td>2</td>\n",
       "    </tr>\n",
       "    <tr>\n",
       "      <th>746</th>\n",
       "      <td>1363303</td>\n",
       "      <td>17875</td>\n",
       "      <td>18</td>\n",
       "      <td>3</td>\n",
       "      <td>0</td>\n",
       "      <td>F</td>\n",
       "      <td>1</td>\n",
       "      <td></td>\n",
       "      <td>Molly                                         ...</td>\n",
       "      <td>Potter                                        ...</td>\n",
       "      <td>7824</td>\n",
       "      <td>E                                             ...</td>\n",
       "      <td>90029</td>\n",
       "      <td>Los Angeles</td>\n",
       "      <td>CA</td>\n",
       "      <td>1</td>\n",
       "    </tr>\n",
       "  </tbody>\n",
       "</table>\n",
       "<p>747 rows × 16 columns</p>\n",
       "</div>"
      ],
      "text/plain": [
       "     cust_id  income  age  years_with_bank  nbr_children gender  \\\n",
       "0    1362691   26150   46                5             1     M    \n",
       "1    1362487    6605   71                1             0     M    \n",
       "2    1363160   18548   38                8             0     F    \n",
       "3    1362752   47668   54                3             0     F    \n",
       "4    1362548   44554   59                9             2     F    \n",
       "..       ...     ...  ...              ...           ...    ...   \n",
       "742  1363324   14795   36                6             1     F    \n",
       "743  1362895   26387   56                6             1     M    \n",
       "744  1362569   61300   50                0             2     M    \n",
       "745  1363364   15100   37                7             0     F    \n",
       "746  1363303   17875   18                3             0     F    \n",
       "\n",
       "     marital_status name_prefix  \\\n",
       "0                 2               \n",
       "1                 2               \n",
       "2                 1               \n",
       "3                 1               \n",
       "4                 4               \n",
       "..              ...         ...   \n",
       "742               4               \n",
       "743               2               \n",
       "744               2               \n",
       "745               2               \n",
       "746               1               \n",
       "\n",
       "                                            first_name  \\\n",
       "0    Donald                                        ...   \n",
       "1    ChingDyi                                      ...   \n",
       "2    Rosa                                          ...   \n",
       "3    Lisa                                          ...   \n",
       "4    Barbara                                       ...   \n",
       "..                                                 ...   \n",
       "742  Lillian                                       ...   \n",
       "743  Marty                                         ...   \n",
       "744  Ken                                           ...   \n",
       "745  Debbie                                        ...   \n",
       "746  Molly                                         ...   \n",
       "\n",
       "                                             last_name  street_nbr  \\\n",
       "0    Marek                                         ...        8298   \n",
       "1    Moussavi                                      ...       10603   \n",
       "2    Johnston                                      ...        8817   \n",
       "3    Martin                                        ...         676   \n",
       "4    O'Malley                                      ...        6578   \n",
       "..                                                 ...         ...   \n",
       "742  Kaufman                                       ...        9677   \n",
       "743  McSherry                                      ...        3227   \n",
       "744  Lawrence                                      ...        6082   \n",
       "745  Runner                                        ...        7851   \n",
       "746  Potter                                        ...        7824   \n",
       "\n",
       "                                           street_name  postal_code  \\\n",
       "0    Second                                        ...        89194   \n",
       "1    Daffodil                                      ...        90159   \n",
       "2    Figueroa                                      ...        90024   \n",
       "3    Humble                                        ...        90172   \n",
       "4    C                                             ...        10138   \n",
       "..                                                 ...          ...   \n",
       "742  B                                             ...        90016   \n",
       "743  Inspiration                                   ...        10126   \n",
       "744  23rd                                          ...        87194   \n",
       "745  H                                             ...        35241   \n",
       "746  E                                             ...        90029   \n",
       "\n",
       "                                    city_name state_code age_bin  \n",
       "0    Las Vegas                                      NV         3  \n",
       "1    Los Angeles                                    CA         4  \n",
       "2    Los Angeles                                    CA         2  \n",
       "3    Los Angeles                                    CA         3  \n",
       "4    New York City                                  NY         3  \n",
       "..                                        ...        ...     ...  \n",
       "742  Los Angeles                                    CA         2  \n",
       "743  New York City                                  NY         3  \n",
       "744  Albuquerque                                    NM         3  \n",
       "745  Birmingham                                     AL         2  \n",
       "746  Los Angeles                                    CA         1  \n",
       "\n",
       "[747 rows x 16 columns]"
      ]
     },
     "execution_count": 4,
     "metadata": {},
     "output_type": "execute_result"
    }
   ],
   "source": [
    "bins = [0, 20, 40, 60, 80, 100]\n",
    "labels = [1,2,3,4,5]\n",
    "customer['age_bin'] = pd.cut(customer['age'], bins=bins, labels=labels)\n",
    "customer"
   ]
  },
  {
   "cell_type": "code",
   "execution_count": 5,
   "id": "b10bc9b2-41e9-4063-858b-676a656f65a4",
   "metadata": {},
   "outputs": [
    {
     "name": "stdout",
     "output_type": "stream",
     "text": [
      "0\n",
      "144157\n"
     ]
    }
   ],
   "source": [
    "min_income = customer['income'].min()\n",
    "print(min_income)\n",
    "max_income = customer['income'].max()\n",
    "print(max_income)"
   ]
  },
  {
   "cell_type": "code",
   "execution_count": 6,
   "id": "39af03a6-8da5-4718-9622-12892693e188",
   "metadata": {
    "tags": []
   },
   "outputs": [
    {
     "data": {
      "text/html": [
       "<div>\n",
       "<style scoped>\n",
       "    .dataframe tbody tr th:only-of-type {\n",
       "        vertical-align: middle;\n",
       "    }\n",
       "\n",
       "    .dataframe tbody tr th {\n",
       "        vertical-align: top;\n",
       "    }\n",
       "\n",
       "    .dataframe thead th {\n",
       "        text-align: right;\n",
       "    }\n",
       "</style>\n",
       "<table border=\"1\" class=\"dataframe\">\n",
       "  <thead>\n",
       "    <tr style=\"text-align: right;\">\n",
       "      <th></th>\n",
       "      <th>cust_id</th>\n",
       "      <th>income</th>\n",
       "      <th>age</th>\n",
       "      <th>years_with_bank</th>\n",
       "      <th>nbr_children</th>\n",
       "      <th>gender</th>\n",
       "      <th>marital_status</th>\n",
       "      <th>name_prefix</th>\n",
       "      <th>first_name</th>\n",
       "      <th>last_name</th>\n",
       "      <th>street_nbr</th>\n",
       "      <th>street_name</th>\n",
       "      <th>postal_code</th>\n",
       "      <th>city_name</th>\n",
       "      <th>state_code</th>\n",
       "      <th>age_bin</th>\n",
       "      <th>income_bin</th>\n",
       "    </tr>\n",
       "  </thead>\n",
       "  <tbody>\n",
       "    <tr>\n",
       "      <th>0</th>\n",
       "      <td>1362691</td>\n",
       "      <td>26150</td>\n",
       "      <td>46</td>\n",
       "      <td>5</td>\n",
       "      <td>1</td>\n",
       "      <td>M</td>\n",
       "      <td>2</td>\n",
       "      <td></td>\n",
       "      <td>Donald                                        ...</td>\n",
       "      <td>Marek                                         ...</td>\n",
       "      <td>8298</td>\n",
       "      <td>Second                                        ...</td>\n",
       "      <td>89194</td>\n",
       "      <td>Las Vegas</td>\n",
       "      <td>NV</td>\n",
       "      <td>3</td>\n",
       "      <td>1</td>\n",
       "    </tr>\n",
       "    <tr>\n",
       "      <th>1</th>\n",
       "      <td>1362487</td>\n",
       "      <td>6605</td>\n",
       "      <td>71</td>\n",
       "      <td>1</td>\n",
       "      <td>0</td>\n",
       "      <td>M</td>\n",
       "      <td>2</td>\n",
       "      <td></td>\n",
       "      <td>ChingDyi                                      ...</td>\n",
       "      <td>Moussavi                                      ...</td>\n",
       "      <td>10603</td>\n",
       "      <td>Daffodil                                      ...</td>\n",
       "      <td>90159</td>\n",
       "      <td>Los Angeles</td>\n",
       "      <td>CA</td>\n",
       "      <td>4</td>\n",
       "      <td>0</td>\n",
       "    </tr>\n",
       "    <tr>\n",
       "      <th>2</th>\n",
       "      <td>1363160</td>\n",
       "      <td>18548</td>\n",
       "      <td>38</td>\n",
       "      <td>8</td>\n",
       "      <td>0</td>\n",
       "      <td>F</td>\n",
       "      <td>1</td>\n",
       "      <td></td>\n",
       "      <td>Rosa                                          ...</td>\n",
       "      <td>Johnston                                      ...</td>\n",
       "      <td>8817</td>\n",
       "      <td>Figueroa                                      ...</td>\n",
       "      <td>90024</td>\n",
       "      <td>Los Angeles</td>\n",
       "      <td>CA</td>\n",
       "      <td>2</td>\n",
       "      <td>1</td>\n",
       "    </tr>\n",
       "    <tr>\n",
       "      <th>3</th>\n",
       "      <td>1362752</td>\n",
       "      <td>47668</td>\n",
       "      <td>54</td>\n",
       "      <td>3</td>\n",
       "      <td>0</td>\n",
       "      <td>F</td>\n",
       "      <td>1</td>\n",
       "      <td></td>\n",
       "      <td>Lisa                                          ...</td>\n",
       "      <td>Martin                                        ...</td>\n",
       "      <td>676</td>\n",
       "      <td>Humble                                        ...</td>\n",
       "      <td>90172</td>\n",
       "      <td>Los Angeles</td>\n",
       "      <td>CA</td>\n",
       "      <td>3</td>\n",
       "      <td>3</td>\n",
       "    </tr>\n",
       "    <tr>\n",
       "      <th>4</th>\n",
       "      <td>1362548</td>\n",
       "      <td>44554</td>\n",
       "      <td>59</td>\n",
       "      <td>9</td>\n",
       "      <td>2</td>\n",
       "      <td>F</td>\n",
       "      <td>4</td>\n",
       "      <td></td>\n",
       "      <td>Barbara                                       ...</td>\n",
       "      <td>O'Malley                                      ...</td>\n",
       "      <td>6578</td>\n",
       "      <td>C                                             ...</td>\n",
       "      <td>10138</td>\n",
       "      <td>New York City</td>\n",
       "      <td>NY</td>\n",
       "      <td>3</td>\n",
       "      <td>2</td>\n",
       "    </tr>\n",
       "    <tr>\n",
       "      <th>...</th>\n",
       "      <td>...</td>\n",
       "      <td>...</td>\n",
       "      <td>...</td>\n",
       "      <td>...</td>\n",
       "      <td>...</td>\n",
       "      <td>...</td>\n",
       "      <td>...</td>\n",
       "      <td>...</td>\n",
       "      <td>...</td>\n",
       "      <td>...</td>\n",
       "      <td>...</td>\n",
       "      <td>...</td>\n",
       "      <td>...</td>\n",
       "      <td>...</td>\n",
       "      <td>...</td>\n",
       "      <td>...</td>\n",
       "      <td>...</td>\n",
       "    </tr>\n",
       "    <tr>\n",
       "      <th>742</th>\n",
       "      <td>1363324</td>\n",
       "      <td>14795</td>\n",
       "      <td>36</td>\n",
       "      <td>6</td>\n",
       "      <td>1</td>\n",
       "      <td>F</td>\n",
       "      <td>4</td>\n",
       "      <td></td>\n",
       "      <td>Lillian                                       ...</td>\n",
       "      <td>Kaufman                                       ...</td>\n",
       "      <td>9677</td>\n",
       "      <td>B                                             ...</td>\n",
       "      <td>90016</td>\n",
       "      <td>Los Angeles</td>\n",
       "      <td>CA</td>\n",
       "      <td>2</td>\n",
       "      <td>0</td>\n",
       "    </tr>\n",
       "    <tr>\n",
       "      <th>743</th>\n",
       "      <td>1362895</td>\n",
       "      <td>26387</td>\n",
       "      <td>56</td>\n",
       "      <td>6</td>\n",
       "      <td>1</td>\n",
       "      <td>M</td>\n",
       "      <td>2</td>\n",
       "      <td></td>\n",
       "      <td>Marty                                         ...</td>\n",
       "      <td>McSherry                                      ...</td>\n",
       "      <td>3227</td>\n",
       "      <td>Inspiration                                   ...</td>\n",
       "      <td>10126</td>\n",
       "      <td>New York City</td>\n",
       "      <td>NY</td>\n",
       "      <td>3</td>\n",
       "      <td>1</td>\n",
       "    </tr>\n",
       "    <tr>\n",
       "      <th>744</th>\n",
       "      <td>1362569</td>\n",
       "      <td>61300</td>\n",
       "      <td>50</td>\n",
       "      <td>0</td>\n",
       "      <td>2</td>\n",
       "      <td>M</td>\n",
       "      <td>2</td>\n",
       "      <td></td>\n",
       "      <td>Ken                                           ...</td>\n",
       "      <td>Lawrence                                      ...</td>\n",
       "      <td>6082</td>\n",
       "      <td>23rd                                          ...</td>\n",
       "      <td>87194</td>\n",
       "      <td>Albuquerque</td>\n",
       "      <td>NM</td>\n",
       "      <td>3</td>\n",
       "      <td>4</td>\n",
       "    </tr>\n",
       "    <tr>\n",
       "      <th>745</th>\n",
       "      <td>1363364</td>\n",
       "      <td>15100</td>\n",
       "      <td>37</td>\n",
       "      <td>7</td>\n",
       "      <td>0</td>\n",
       "      <td>F</td>\n",
       "      <td>2</td>\n",
       "      <td></td>\n",
       "      <td>Debbie                                        ...</td>\n",
       "      <td>Runner                                        ...</td>\n",
       "      <td>7851</td>\n",
       "      <td>H                                             ...</td>\n",
       "      <td>35241</td>\n",
       "      <td>Birmingham</td>\n",
       "      <td>AL</td>\n",
       "      <td>2</td>\n",
       "      <td>1</td>\n",
       "    </tr>\n",
       "    <tr>\n",
       "      <th>746</th>\n",
       "      <td>1363303</td>\n",
       "      <td>17875</td>\n",
       "      <td>18</td>\n",
       "      <td>3</td>\n",
       "      <td>0</td>\n",
       "      <td>F</td>\n",
       "      <td>1</td>\n",
       "      <td></td>\n",
       "      <td>Molly                                         ...</td>\n",
       "      <td>Potter                                        ...</td>\n",
       "      <td>7824</td>\n",
       "      <td>E                                             ...</td>\n",
       "      <td>90029</td>\n",
       "      <td>Los Angeles</td>\n",
       "      <td>CA</td>\n",
       "      <td>1</td>\n",
       "      <td>1</td>\n",
       "    </tr>\n",
       "  </tbody>\n",
       "</table>\n",
       "<p>747 rows × 17 columns</p>\n",
       "</div>"
      ],
      "text/plain": [
       "     cust_id  income  age  years_with_bank  nbr_children gender  \\\n",
       "0    1362691   26150   46                5             1     M    \n",
       "1    1362487    6605   71                1             0     M    \n",
       "2    1363160   18548   38                8             0     F    \n",
       "3    1362752   47668   54                3             0     F    \n",
       "4    1362548   44554   59                9             2     F    \n",
       "..       ...     ...  ...              ...           ...    ...   \n",
       "742  1363324   14795   36                6             1     F    \n",
       "743  1362895   26387   56                6             1     M    \n",
       "744  1362569   61300   50                0             2     M    \n",
       "745  1363364   15100   37                7             0     F    \n",
       "746  1363303   17875   18                3             0     F    \n",
       "\n",
       "     marital_status name_prefix  \\\n",
       "0                 2               \n",
       "1                 2               \n",
       "2                 1               \n",
       "3                 1               \n",
       "4                 4               \n",
       "..              ...         ...   \n",
       "742               4               \n",
       "743               2               \n",
       "744               2               \n",
       "745               2               \n",
       "746               1               \n",
       "\n",
       "                                            first_name  \\\n",
       "0    Donald                                        ...   \n",
       "1    ChingDyi                                      ...   \n",
       "2    Rosa                                          ...   \n",
       "3    Lisa                                          ...   \n",
       "4    Barbara                                       ...   \n",
       "..                                                 ...   \n",
       "742  Lillian                                       ...   \n",
       "743  Marty                                         ...   \n",
       "744  Ken                                           ...   \n",
       "745  Debbie                                        ...   \n",
       "746  Molly                                         ...   \n",
       "\n",
       "                                             last_name  street_nbr  \\\n",
       "0    Marek                                         ...        8298   \n",
       "1    Moussavi                                      ...       10603   \n",
       "2    Johnston                                      ...        8817   \n",
       "3    Martin                                        ...         676   \n",
       "4    O'Malley                                      ...        6578   \n",
       "..                                                 ...         ...   \n",
       "742  Kaufman                                       ...        9677   \n",
       "743  McSherry                                      ...        3227   \n",
       "744  Lawrence                                      ...        6082   \n",
       "745  Runner                                        ...        7851   \n",
       "746  Potter                                        ...        7824   \n",
       "\n",
       "                                           street_name  postal_code  \\\n",
       "0    Second                                        ...        89194   \n",
       "1    Daffodil                                      ...        90159   \n",
       "2    Figueroa                                      ...        90024   \n",
       "3    Humble                                        ...        90172   \n",
       "4    C                                             ...        10138   \n",
       "..                                                 ...          ...   \n",
       "742  B                                             ...        90016   \n",
       "743  Inspiration                                   ...        10126   \n",
       "744  23rd                                          ...        87194   \n",
       "745  H                                             ...        35241   \n",
       "746  E                                             ...        90029   \n",
       "\n",
       "                                    city_name state_code age_bin income_bin  \n",
       "0    Las Vegas                                      NV         3          1  \n",
       "1    Los Angeles                                    CA         4          0  \n",
       "2    Los Angeles                                    CA         2          1  \n",
       "3    Los Angeles                                    CA         3          3  \n",
       "4    New York City                                  NY         3          2  \n",
       "..                                        ...        ...     ...        ...  \n",
       "742  Los Angeles                                    CA         2          0  \n",
       "743  New York City                                  NY         3          1  \n",
       "744  Albuquerque                                    NM         3          4  \n",
       "745  Birmingham                                     AL         2          1  \n",
       "746  Los Angeles                                    CA         1          1  \n",
       "\n",
       "[747 rows x 17 columns]"
      ]
     },
     "execution_count": 6,
     "metadata": {},
     "output_type": "execute_result"
    }
   ],
   "source": [
    "bins = [0, 15000, 30000, 45000, 60000, 75000, 90000, 105000, 120000, 135000, 150000]\n",
    "labels = [0, 1, 2, 3, 4, 5, 6, 7, 8, 9]\n",
    "customer['income_bin'] = pd.cut(customer['income'], bins=bins, labels=labels, include_lowest =True)\n",
    "customer"
   ]
  },
  {
   "cell_type": "code",
   "execution_count": 7,
   "id": "4d5ac477-f3f5-4626-924d-afbd99d19d5c",
   "metadata": {
    "tags": []
   },
   "outputs": [
    {
     "data": {
      "text/html": [
       "<div>\n",
       "<style scoped>\n",
       "    .dataframe tbody tr th:only-of-type {\n",
       "        vertical-align: middle;\n",
       "    }\n",
       "\n",
       "    .dataframe tbody tr th {\n",
       "        vertical-align: top;\n",
       "    }\n",
       "\n",
       "    .dataframe thead th {\n",
       "        text-align: right;\n",
       "    }\n",
       "</style>\n",
       "<table border=\"1\" class=\"dataframe\">\n",
       "  <thead>\n",
       "    <tr style=\"text-align: right;\">\n",
       "      <th></th>\n",
       "      <th>cust_id</th>\n",
       "      <th>income</th>\n",
       "      <th>age</th>\n",
       "      <th>years_with_bank</th>\n",
       "      <th>nbr_children</th>\n",
       "      <th>gender</th>\n",
       "      <th>marital_status</th>\n",
       "      <th>name_prefix</th>\n",
       "      <th>first_name</th>\n",
       "      <th>last_name</th>\n",
       "      <th>street_nbr</th>\n",
       "      <th>street_name</th>\n",
       "      <th>postal_code</th>\n",
       "      <th>city_name</th>\n",
       "      <th>state_code</th>\n",
       "      <th>age_bin</th>\n",
       "      <th>income_bin</th>\n",
       "      <th>F</th>\n",
       "      <th>M</th>\n",
       "    </tr>\n",
       "  </thead>\n",
       "  <tbody>\n",
       "    <tr>\n",
       "      <th>0</th>\n",
       "      <td>1362691</td>\n",
       "      <td>26150</td>\n",
       "      <td>46</td>\n",
       "      <td>5</td>\n",
       "      <td>1</td>\n",
       "      <td>M</td>\n",
       "      <td>2</td>\n",
       "      <td></td>\n",
       "      <td>Donald                                        ...</td>\n",
       "      <td>Marek                                         ...</td>\n",
       "      <td>8298</td>\n",
       "      <td>Second                                        ...</td>\n",
       "      <td>89194</td>\n",
       "      <td>Las Vegas</td>\n",
       "      <td>NV</td>\n",
       "      <td>3</td>\n",
       "      <td>1</td>\n",
       "      <td>0</td>\n",
       "      <td>1</td>\n",
       "    </tr>\n",
       "    <tr>\n",
       "      <th>1</th>\n",
       "      <td>1362487</td>\n",
       "      <td>6605</td>\n",
       "      <td>71</td>\n",
       "      <td>1</td>\n",
       "      <td>0</td>\n",
       "      <td>M</td>\n",
       "      <td>2</td>\n",
       "      <td></td>\n",
       "      <td>ChingDyi                                      ...</td>\n",
       "      <td>Moussavi                                      ...</td>\n",
       "      <td>10603</td>\n",
       "      <td>Daffodil                                      ...</td>\n",
       "      <td>90159</td>\n",
       "      <td>Los Angeles</td>\n",
       "      <td>CA</td>\n",
       "      <td>4</td>\n",
       "      <td>0</td>\n",
       "      <td>0</td>\n",
       "      <td>1</td>\n",
       "    </tr>\n",
       "    <tr>\n",
       "      <th>2</th>\n",
       "      <td>1363160</td>\n",
       "      <td>18548</td>\n",
       "      <td>38</td>\n",
       "      <td>8</td>\n",
       "      <td>0</td>\n",
       "      <td>F</td>\n",
       "      <td>1</td>\n",
       "      <td></td>\n",
       "      <td>Rosa                                          ...</td>\n",
       "      <td>Johnston                                      ...</td>\n",
       "      <td>8817</td>\n",
       "      <td>Figueroa                                      ...</td>\n",
       "      <td>90024</td>\n",
       "      <td>Los Angeles</td>\n",
       "      <td>CA</td>\n",
       "      <td>2</td>\n",
       "      <td>1</td>\n",
       "      <td>1</td>\n",
       "      <td>0</td>\n",
       "    </tr>\n",
       "    <tr>\n",
       "      <th>3</th>\n",
       "      <td>1362752</td>\n",
       "      <td>47668</td>\n",
       "      <td>54</td>\n",
       "      <td>3</td>\n",
       "      <td>0</td>\n",
       "      <td>F</td>\n",
       "      <td>1</td>\n",
       "      <td></td>\n",
       "      <td>Lisa                                          ...</td>\n",
       "      <td>Martin                                        ...</td>\n",
       "      <td>676</td>\n",
       "      <td>Humble                                        ...</td>\n",
       "      <td>90172</td>\n",
       "      <td>Los Angeles</td>\n",
       "      <td>CA</td>\n",
       "      <td>3</td>\n",
       "      <td>3</td>\n",
       "      <td>1</td>\n",
       "      <td>0</td>\n",
       "    </tr>\n",
       "    <tr>\n",
       "      <th>4</th>\n",
       "      <td>1362548</td>\n",
       "      <td>44554</td>\n",
       "      <td>59</td>\n",
       "      <td>9</td>\n",
       "      <td>2</td>\n",
       "      <td>F</td>\n",
       "      <td>4</td>\n",
       "      <td></td>\n",
       "      <td>Barbara                                       ...</td>\n",
       "      <td>O'Malley                                      ...</td>\n",
       "      <td>6578</td>\n",
       "      <td>C                                             ...</td>\n",
       "      <td>10138</td>\n",
       "      <td>New York City</td>\n",
       "      <td>NY</td>\n",
       "      <td>3</td>\n",
       "      <td>2</td>\n",
       "      <td>1</td>\n",
       "      <td>0</td>\n",
       "    </tr>\n",
       "    <tr>\n",
       "      <th>5</th>\n",
       "      <td>1362813</td>\n",
       "      <td>15684</td>\n",
       "      <td>53</td>\n",
       "      <td>3</td>\n",
       "      <td>2</td>\n",
       "      <td>F</td>\n",
       "      <td>2</td>\n",
       "      <td></td>\n",
       "      <td>Terry                                         ...</td>\n",
       "      <td>Eubanks                                       ...</td>\n",
       "      <td>6999</td>\n",
       "      <td>Begonia                                       ...</td>\n",
       "      <td>60654</td>\n",
       "      <td>Chicago</td>\n",
       "      <td>IL</td>\n",
       "      <td>3</td>\n",
       "      <td>1</td>\n",
       "      <td>1</td>\n",
       "      <td>0</td>\n",
       "    </tr>\n",
       "    <tr>\n",
       "      <th>6</th>\n",
       "      <td>1363017</td>\n",
       "      <td>0</td>\n",
       "      <td>16</td>\n",
       "      <td>1</td>\n",
       "      <td>0</td>\n",
       "      <td>M</td>\n",
       "      <td>1</td>\n",
       "      <td></td>\n",
       "      <td>Tim                                           ...</td>\n",
       "      <td>McMillen                                      ...</td>\n",
       "      <td>10274</td>\n",
       "      <td>Mission Gorge                                 ...</td>\n",
       "      <td>90095</td>\n",
       "      <td>Los Angeles</td>\n",
       "      <td>CA</td>\n",
       "      <td>1</td>\n",
       "      <td>0</td>\n",
       "      <td>0</td>\n",
       "      <td>1</td>\n",
       "    </tr>\n",
       "    <tr>\n",
       "      <th>7</th>\n",
       "      <td>1362609</td>\n",
       "      <td>1929</td>\n",
       "      <td>79</td>\n",
       "      <td>8</td>\n",
       "      <td>0</td>\n",
       "      <td>F</td>\n",
       "      <td>2</td>\n",
       "      <td></td>\n",
       "      <td>Sandy                                         ...</td>\n",
       "      <td>Rayhanian                                     ...</td>\n",
       "      <td>6168</td>\n",
       "      <td>Camellia                                      ...</td>\n",
       "      <td>96846</td>\n",
       "      <td>Honolulu</td>\n",
       "      <td>HI</td>\n",
       "      <td>4</td>\n",
       "      <td>0</td>\n",
       "      <td>1</td>\n",
       "      <td>0</td>\n",
       "    </tr>\n",
       "    <tr>\n",
       "      <th>8</th>\n",
       "      <td>1363486</td>\n",
       "      <td>39942</td>\n",
       "      <td>41</td>\n",
       "      <td>1</td>\n",
       "      <td>5</td>\n",
       "      <td>F</td>\n",
       "      <td>4</td>\n",
       "      <td></td>\n",
       "      <td>Jill                                          ...</td>\n",
       "      <td>Campbell                                      ...</td>\n",
       "      <td>3830</td>\n",
       "      <td>Tenth                                         ...</td>\n",
       "      <td>96802</td>\n",
       "      <td>Honolulu</td>\n",
       "      <td>HI</td>\n",
       "      <td>3</td>\n",
       "      <td>2</td>\n",
       "      <td>1</td>\n",
       "      <td>0</td>\n",
       "    </tr>\n",
       "    <tr>\n",
       "      <th>9</th>\n",
       "      <td>1363078</td>\n",
       "      <td>9622</td>\n",
       "      <td>46</td>\n",
       "      <td>6</td>\n",
       "      <td>1</td>\n",
       "      <td>M</td>\n",
       "      <td>2</td>\n",
       "      <td>Mr.</td>\n",
       "      <td>Christopher                                   ...</td>\n",
       "      <td>McVicker                                      ...</td>\n",
       "      <td>14382</td>\n",
       "      <td>Peach                                         ...</td>\n",
       "      <td>96822</td>\n",
       "      <td>Honolulu</td>\n",
       "      <td>HI</td>\n",
       "      <td>3</td>\n",
       "      <td>0</td>\n",
       "      <td>0</td>\n",
       "      <td>1</td>\n",
       "    </tr>\n",
       "    <tr>\n",
       "      <th>10</th>\n",
       "      <td>1363282</td>\n",
       "      <td>25829</td>\n",
       "      <td>29</td>\n",
       "      <td>8</td>\n",
       "      <td>0</td>\n",
       "      <td>F</td>\n",
       "      <td>1</td>\n",
       "      <td>Ms.</td>\n",
       "      <td>Betty                                         ...</td>\n",
       "      <td>Gausman                                       ...</td>\n",
       "      <td>3278</td>\n",
       "      <td>Capital                                       ...</td>\n",
       "      <td>20129</td>\n",
       "      <td>Washington</td>\n",
       "      <td>DC</td>\n",
       "      <td>2</td>\n",
       "      <td>1</td>\n",
       "      <td>1</td>\n",
       "      <td>0</td>\n",
       "    </tr>\n",
       "    <tr>\n",
       "      <th>11</th>\n",
       "      <td>1363343</td>\n",
       "      <td>0</td>\n",
       "      <td>15</td>\n",
       "      <td>0</td>\n",
       "      <td>0</td>\n",
       "      <td>M</td>\n",
       "      <td>1</td>\n",
       "      <td></td>\n",
       "      <td>Robin                                         ...</td>\n",
       "      <td>Shin                                          ...</td>\n",
       "      <td>1168</td>\n",
       "      <td>Cactus                                        ...</td>\n",
       "      <td>77061</td>\n",
       "      <td>Houston</td>\n",
       "      <td>TX</td>\n",
       "      <td>1</td>\n",
       "      <td>0</td>\n",
       "      <td>0</td>\n",
       "      <td>1</td>\n",
       "    </tr>\n",
       "    <tr>\n",
       "      <th>12</th>\n",
       "      <td>1362527</td>\n",
       "      <td>17622</td>\n",
       "      <td>44</td>\n",
       "      <td>1</td>\n",
       "      <td>0</td>\n",
       "      <td>M</td>\n",
       "      <td>2</td>\n",
       "      <td></td>\n",
       "      <td>Chuck                                         ...</td>\n",
       "      <td>Flynn                                         ...</td>\n",
       "      <td>1735</td>\n",
       "      <td>B                                             ...</td>\n",
       "      <td>94145</td>\n",
       "      <td>San Francisco</td>\n",
       "      <td>CA</td>\n",
       "      <td>3</td>\n",
       "      <td>1</td>\n",
       "      <td>0</td>\n",
       "      <td>1</td>\n",
       "    </tr>\n",
       "    <tr>\n",
       "      <th>13</th>\n",
       "      <td>1362670</td>\n",
       "      <td>8877</td>\n",
       "      <td>26</td>\n",
       "      <td>5</td>\n",
       "      <td>0</td>\n",
       "      <td>F</td>\n",
       "      <td>1</td>\n",
       "      <td></td>\n",
       "      <td>Lynn                                          ...</td>\n",
       "      <td>Wolf                                          ...</td>\n",
       "      <td>18743</td>\n",
       "      <td>First                                         ...</td>\n",
       "      <td>90025</td>\n",
       "      <td>Los Angeles</td>\n",
       "      <td>CA</td>\n",
       "      <td>2</td>\n",
       "      <td>0</td>\n",
       "      <td>1</td>\n",
       "      <td>0</td>\n",
       "    </tr>\n",
       "    <tr>\n",
       "      <th>14</th>\n",
       "      <td>1362996</td>\n",
       "      <td>23351</td>\n",
       "      <td>51</td>\n",
       "      <td>1</td>\n",
       "      <td>2</td>\n",
       "      <td>F</td>\n",
       "      <td>2</td>\n",
       "      <td>Mrs.</td>\n",
       "      <td>Robin                                         ...</td>\n",
       "      <td>Johnson                                       ...</td>\n",
       "      <td>5364</td>\n",
       "      <td>Capital                                       ...</td>\n",
       "      <td>19136</td>\n",
       "      <td>Philadelphia</td>\n",
       "      <td>PA</td>\n",
       "      <td>3</td>\n",
       "      <td>1</td>\n",
       "      <td>1</td>\n",
       "      <td>0</td>\n",
       "    </tr>\n",
       "  </tbody>\n",
       "</table>\n",
       "</div>"
      ],
      "text/plain": [
       "    cust_id  income  age  years_with_bank  nbr_children gender  \\\n",
       "0   1362691   26150   46                5             1     M    \n",
       "1   1362487    6605   71                1             0     M    \n",
       "2   1363160   18548   38                8             0     F    \n",
       "3   1362752   47668   54                3             0     F    \n",
       "4   1362548   44554   59                9             2     F    \n",
       "5   1362813   15684   53                3             2     F    \n",
       "6   1363017       0   16                1             0     M    \n",
       "7   1362609    1929   79                8             0     F    \n",
       "8   1363486   39942   41                1             5     F    \n",
       "9   1363078    9622   46                6             1     M    \n",
       "10  1363282   25829   29                8             0     F    \n",
       "11  1363343       0   15                0             0     M    \n",
       "12  1362527   17622   44                1             0     M    \n",
       "13  1362670    8877   26                5             0     F    \n",
       "14  1362996   23351   51                1             2     F    \n",
       "\n",
       "    marital_status name_prefix  \\\n",
       "0                2               \n",
       "1                2               \n",
       "2                1               \n",
       "3                1               \n",
       "4                4               \n",
       "5                2               \n",
       "6                1               \n",
       "7                2               \n",
       "8                4               \n",
       "9                2    Mr.        \n",
       "10               1    Ms.        \n",
       "11               1               \n",
       "12               2               \n",
       "13               1               \n",
       "14               2    Mrs.       \n",
       "\n",
       "                                           first_name  \\\n",
       "0   Donald                                        ...   \n",
       "1   ChingDyi                                      ...   \n",
       "2   Rosa                                          ...   \n",
       "3   Lisa                                          ...   \n",
       "4   Barbara                                       ...   \n",
       "5   Terry                                         ...   \n",
       "6   Tim                                           ...   \n",
       "7   Sandy                                         ...   \n",
       "8   Jill                                          ...   \n",
       "9   Christopher                                   ...   \n",
       "10  Betty                                         ...   \n",
       "11  Robin                                         ...   \n",
       "12  Chuck                                         ...   \n",
       "13  Lynn                                          ...   \n",
       "14  Robin                                         ...   \n",
       "\n",
       "                                            last_name  street_nbr  \\\n",
       "0   Marek                                         ...        8298   \n",
       "1   Moussavi                                      ...       10603   \n",
       "2   Johnston                                      ...        8817   \n",
       "3   Martin                                        ...         676   \n",
       "4   O'Malley                                      ...        6578   \n",
       "5   Eubanks                                       ...        6999   \n",
       "6   McMillen                                      ...       10274   \n",
       "7   Rayhanian                                     ...        6168   \n",
       "8   Campbell                                      ...        3830   \n",
       "9   McVicker                                      ...       14382   \n",
       "10  Gausman                                       ...        3278   \n",
       "11  Shin                                          ...        1168   \n",
       "12  Flynn                                         ...        1735   \n",
       "13  Wolf                                          ...       18743   \n",
       "14  Johnson                                       ...        5364   \n",
       "\n",
       "                                          street_name  postal_code  \\\n",
       "0   Second                                        ...        89194   \n",
       "1   Daffodil                                      ...        90159   \n",
       "2   Figueroa                                      ...        90024   \n",
       "3   Humble                                        ...        90172   \n",
       "4   C                                             ...        10138   \n",
       "5   Begonia                                       ...        60654   \n",
       "6   Mission Gorge                                 ...        90095   \n",
       "7   Camellia                                      ...        96846   \n",
       "8   Tenth                                         ...        96802   \n",
       "9   Peach                                         ...        96822   \n",
       "10  Capital                                       ...        20129   \n",
       "11  Cactus                                        ...        77061   \n",
       "12  B                                             ...        94145   \n",
       "13  First                                         ...        90025   \n",
       "14  Capital                                       ...        19136   \n",
       "\n",
       "                                   city_name state_code age_bin income_bin  \\\n",
       "0   Las Vegas                                      NV         3          1   \n",
       "1   Los Angeles                                    CA         4          0   \n",
       "2   Los Angeles                                    CA         2          1   \n",
       "3   Los Angeles                                    CA         3          3   \n",
       "4   New York City                                  NY         3          2   \n",
       "5   Chicago                                        IL         3          1   \n",
       "6   Los Angeles                                    CA         1          0   \n",
       "7   Honolulu                                       HI         4          0   \n",
       "8   Honolulu                                       HI         3          2   \n",
       "9   Honolulu                                       HI         3          0   \n",
       "10  Washington                                     DC         2          1   \n",
       "11  Houston                                        TX         1          0   \n",
       "12  San Francisco                                  CA         3          1   \n",
       "13  Los Angeles                                    CA         2          0   \n",
       "14  Philadelphia                                   PA         3          1   \n",
       "\n",
       "    F   M   \n",
       "0    0   1  \n",
       "1    0   1  \n",
       "2    1   0  \n",
       "3    1   0  \n",
       "4    1   0  \n",
       "5    1   0  \n",
       "6    0   1  \n",
       "7    1   0  \n",
       "8    1   0  \n",
       "9    0   1  \n",
       "10   1   0  \n",
       "11   0   1  \n",
       "12   0   1  \n",
       "13   1   0  \n",
       "14   1   0  "
      ]
     },
     "execution_count": 7,
     "metadata": {},
     "output_type": "execute_result"
    }
   ],
   "source": [
    "gender = pd.get_dummies(customer[\"gender\"])\n",
    "customer = pd.concat([customer, gender], axis = 1)\n",
    "customer.head(15)"
   ]
  },
  {
   "cell_type": "code",
   "execution_count": 8,
   "id": "34ac4837-00bb-44cc-bb6a-ffd8a6593368",
   "metadata": {},
   "outputs": [],
   "source": [
    "customer = customer.drop(['income', 'age', 'years_with_bank', 'gender', 'name_prefix', 'first_name', 'last_name', 'street_nbr', 'street_name', 'postal_code', 'city_name'], axis = 1)"
   ]
  },
  {
   "cell_type": "code",
   "execution_count": 9,
   "id": "b5702d45-44b6-4cfe-b36b-25cd9a99eecc",
   "metadata": {},
   "outputs": [],
   "source": [
    "customer = customer.drop(['state_code', 'cust_id'], axis =1)"
   ]
  },
  {
   "cell_type": "code",
   "execution_count": 10,
   "id": "d3c58d4a-071c-47d0-a58a-4c571687c352",
   "metadata": {},
   "outputs": [
    {
     "data": {
      "text/html": [
       "<div>\n",
       "<style scoped>\n",
       "    .dataframe tbody tr th:only-of-type {\n",
       "        vertical-align: middle;\n",
       "    }\n",
       "\n",
       "    .dataframe tbody tr th {\n",
       "        vertical-align: top;\n",
       "    }\n",
       "\n",
       "    .dataframe thead th {\n",
       "        text-align: right;\n",
       "    }\n",
       "</style>\n",
       "<table border=\"1\" class=\"dataframe\">\n",
       "  <thead>\n",
       "    <tr style=\"text-align: right;\">\n",
       "      <th></th>\n",
       "      <th>nbr_children</th>\n",
       "      <th>marital_status</th>\n",
       "      <th>age_bin</th>\n",
       "      <th>income_bin</th>\n",
       "      <th>F</th>\n",
       "      <th>M</th>\n",
       "    </tr>\n",
       "  </thead>\n",
       "  <tbody>\n",
       "    <tr>\n",
       "      <th>0</th>\n",
       "      <td>1</td>\n",
       "      <td>2</td>\n",
       "      <td>3</td>\n",
       "      <td>1</td>\n",
       "      <td>0</td>\n",
       "      <td>1</td>\n",
       "    </tr>\n",
       "    <tr>\n",
       "      <th>1</th>\n",
       "      <td>0</td>\n",
       "      <td>2</td>\n",
       "      <td>4</td>\n",
       "      <td>0</td>\n",
       "      <td>0</td>\n",
       "      <td>1</td>\n",
       "    </tr>\n",
       "    <tr>\n",
       "      <th>2</th>\n",
       "      <td>0</td>\n",
       "      <td>1</td>\n",
       "      <td>2</td>\n",
       "      <td>1</td>\n",
       "      <td>1</td>\n",
       "      <td>0</td>\n",
       "    </tr>\n",
       "    <tr>\n",
       "      <th>3</th>\n",
       "      <td>0</td>\n",
       "      <td>1</td>\n",
       "      <td>3</td>\n",
       "      <td>3</td>\n",
       "      <td>1</td>\n",
       "      <td>0</td>\n",
       "    </tr>\n",
       "    <tr>\n",
       "      <th>4</th>\n",
       "      <td>2</td>\n",
       "      <td>4</td>\n",
       "      <td>3</td>\n",
       "      <td>2</td>\n",
       "      <td>1</td>\n",
       "      <td>0</td>\n",
       "    </tr>\n",
       "    <tr>\n",
       "      <th>...</th>\n",
       "      <td>...</td>\n",
       "      <td>...</td>\n",
       "      <td>...</td>\n",
       "      <td>...</td>\n",
       "      <td>...</td>\n",
       "      <td>...</td>\n",
       "    </tr>\n",
       "    <tr>\n",
       "      <th>742</th>\n",
       "      <td>1</td>\n",
       "      <td>4</td>\n",
       "      <td>2</td>\n",
       "      <td>0</td>\n",
       "      <td>1</td>\n",
       "      <td>0</td>\n",
       "    </tr>\n",
       "    <tr>\n",
       "      <th>743</th>\n",
       "      <td>1</td>\n",
       "      <td>2</td>\n",
       "      <td>3</td>\n",
       "      <td>1</td>\n",
       "      <td>0</td>\n",
       "      <td>1</td>\n",
       "    </tr>\n",
       "    <tr>\n",
       "      <th>744</th>\n",
       "      <td>2</td>\n",
       "      <td>2</td>\n",
       "      <td>3</td>\n",
       "      <td>4</td>\n",
       "      <td>0</td>\n",
       "      <td>1</td>\n",
       "    </tr>\n",
       "    <tr>\n",
       "      <th>745</th>\n",
       "      <td>0</td>\n",
       "      <td>2</td>\n",
       "      <td>2</td>\n",
       "      <td>1</td>\n",
       "      <td>1</td>\n",
       "      <td>0</td>\n",
       "    </tr>\n",
       "    <tr>\n",
       "      <th>746</th>\n",
       "      <td>0</td>\n",
       "      <td>1</td>\n",
       "      <td>1</td>\n",
       "      <td>1</td>\n",
       "      <td>1</td>\n",
       "      <td>0</td>\n",
       "    </tr>\n",
       "  </tbody>\n",
       "</table>\n",
       "<p>747 rows × 6 columns</p>\n",
       "</div>"
      ],
      "text/plain": [
       "     nbr_children  marital_status age_bin income_bin  F   M \n",
       "0               1               2       3          1   0   1\n",
       "1               0               2       4          0   0   1\n",
       "2               0               1       2          1   1   0\n",
       "3               0               1       3          3   1   0\n",
       "4               2               4       3          2   1   0\n",
       "..            ...             ...     ...        ...  ..  ..\n",
       "742             1               4       2          0   1   0\n",
       "743             1               2       3          1   0   1\n",
       "744             2               2       3          4   0   1\n",
       "745             0               2       2          1   1   0\n",
       "746             0               1       1          1   1   0\n",
       "\n",
       "[747 rows x 6 columns]"
      ]
     },
     "execution_count": 10,
     "metadata": {},
     "output_type": "execute_result"
    }
   ],
   "source": [
    "customer"
   ]
  },
  {
   "cell_type": "code",
   "execution_count": 11,
   "id": "64500c86-5ad6-46cb-8a6a-895515955110",
   "metadata": {},
   "outputs": [],
   "source": [
    "# import MiMaxScaler\n",
    "from sklearn.preprocessing import MinMaxScaler"
   ]
  },
  {
   "cell_type": "code",
   "execution_count": 12,
   "id": "b2c6fcbf-0bce-4710-a5f8-bb14e5d96746",
   "metadata": {},
   "outputs": [
    {
     "data": {
      "text/html": [
       "<div>\n",
       "<style scoped>\n",
       "    .dataframe tbody tr th:only-of-type {\n",
       "        vertical-align: middle;\n",
       "    }\n",
       "\n",
       "    .dataframe tbody tr th {\n",
       "        vertical-align: top;\n",
       "    }\n",
       "\n",
       "    .dataframe thead th {\n",
       "        text-align: right;\n",
       "    }\n",
       "</style>\n",
       "<table border=\"1\" class=\"dataframe\">\n",
       "  <thead>\n",
       "    <tr style=\"text-align: right;\">\n",
       "      <th></th>\n",
       "      <th>nbr_children</th>\n",
       "      <th>marital_status</th>\n",
       "      <th>age_bin</th>\n",
       "      <th>income_bin</th>\n",
       "      <th>F</th>\n",
       "      <th>M</th>\n",
       "    </tr>\n",
       "  </thead>\n",
       "  <tbody>\n",
       "    <tr>\n",
       "      <th>0</th>\n",
       "      <td>0.2</td>\n",
       "      <td>0.333333</td>\n",
       "      <td>0.50</td>\n",
       "      <td>0.111111</td>\n",
       "      <td>0.0</td>\n",
       "      <td>1.0</td>\n",
       "    </tr>\n",
       "    <tr>\n",
       "      <th>1</th>\n",
       "      <td>0.0</td>\n",
       "      <td>0.333333</td>\n",
       "      <td>0.75</td>\n",
       "      <td>0.000000</td>\n",
       "      <td>0.0</td>\n",
       "      <td>1.0</td>\n",
       "    </tr>\n",
       "    <tr>\n",
       "      <th>2</th>\n",
       "      <td>0.0</td>\n",
       "      <td>0.000000</td>\n",
       "      <td>0.25</td>\n",
       "      <td>0.111111</td>\n",
       "      <td>1.0</td>\n",
       "      <td>0.0</td>\n",
       "    </tr>\n",
       "    <tr>\n",
       "      <th>3</th>\n",
       "      <td>0.0</td>\n",
       "      <td>0.000000</td>\n",
       "      <td>0.50</td>\n",
       "      <td>0.333333</td>\n",
       "      <td>1.0</td>\n",
       "      <td>0.0</td>\n",
       "    </tr>\n",
       "    <tr>\n",
       "      <th>4</th>\n",
       "      <td>0.4</td>\n",
       "      <td>1.000000</td>\n",
       "      <td>0.50</td>\n",
       "      <td>0.222222</td>\n",
       "      <td>1.0</td>\n",
       "      <td>0.0</td>\n",
       "    </tr>\n",
       "    <tr>\n",
       "      <th>...</th>\n",
       "      <td>...</td>\n",
       "      <td>...</td>\n",
       "      <td>...</td>\n",
       "      <td>...</td>\n",
       "      <td>...</td>\n",
       "      <td>...</td>\n",
       "    </tr>\n",
       "    <tr>\n",
       "      <th>742</th>\n",
       "      <td>0.2</td>\n",
       "      <td>1.000000</td>\n",
       "      <td>0.25</td>\n",
       "      <td>0.000000</td>\n",
       "      <td>1.0</td>\n",
       "      <td>0.0</td>\n",
       "    </tr>\n",
       "    <tr>\n",
       "      <th>743</th>\n",
       "      <td>0.2</td>\n",
       "      <td>0.333333</td>\n",
       "      <td>0.50</td>\n",
       "      <td>0.111111</td>\n",
       "      <td>0.0</td>\n",
       "      <td>1.0</td>\n",
       "    </tr>\n",
       "    <tr>\n",
       "      <th>744</th>\n",
       "      <td>0.4</td>\n",
       "      <td>0.333333</td>\n",
       "      <td>0.50</td>\n",
       "      <td>0.444444</td>\n",
       "      <td>0.0</td>\n",
       "      <td>1.0</td>\n",
       "    </tr>\n",
       "    <tr>\n",
       "      <th>745</th>\n",
       "      <td>0.0</td>\n",
       "      <td>0.333333</td>\n",
       "      <td>0.25</td>\n",
       "      <td>0.111111</td>\n",
       "      <td>1.0</td>\n",
       "      <td>0.0</td>\n",
       "    </tr>\n",
       "    <tr>\n",
       "      <th>746</th>\n",
       "      <td>0.0</td>\n",
       "      <td>0.000000</td>\n",
       "      <td>0.00</td>\n",
       "      <td>0.111111</td>\n",
       "      <td>1.0</td>\n",
       "      <td>0.0</td>\n",
       "    </tr>\n",
       "  </tbody>\n",
       "</table>\n",
       "<p>747 rows × 6 columns</p>\n",
       "</div>"
      ],
      "text/plain": [
       "     nbr_children  marital_status  age_bin  income_bin   F    M \n",
       "0             0.2        0.333333     0.50    0.111111  0.0  1.0\n",
       "1             0.0        0.333333     0.75    0.000000  0.0  1.0\n",
       "2             0.0        0.000000     0.25    0.111111  1.0  0.0\n",
       "3             0.0        0.000000     0.50    0.333333  1.0  0.0\n",
       "4             0.4        1.000000     0.50    0.222222  1.0  0.0\n",
       "..            ...             ...      ...         ...  ...  ...\n",
       "742           0.2        1.000000     0.25    0.000000  1.0  0.0\n",
       "743           0.2        0.333333     0.50    0.111111  0.0  1.0\n",
       "744           0.4        0.333333     0.50    0.444444  0.0  1.0\n",
       "745           0.0        0.333333     0.25    0.111111  1.0  0.0\n",
       "746           0.0        0.000000     0.00    0.111111  1.0  0.0\n",
       "\n",
       "[747 rows x 6 columns]"
      ]
     },
     "execution_count": 12,
     "metadata": {},
     "output_type": "execute_result"
    }
   ],
   "source": [
    "# initialize scaler\n",
    "scaler = MinMaxScaler()\n",
    "# scaling features\n",
    "customer_scaled = pd.DataFrame(scaler.fit_transform(customer), columns = customer.columns)\n",
    "customer_scaled"
   ]
  },
  {
   "cell_type": "code",
   "execution_count": 13,
   "id": "1fd44f9f-eb3d-477f-bba4-0c74a199024a",
   "metadata": {},
   "outputs": [],
   "source": [
    "# import Kmeans \n",
    "from sklearn.cluster import KMeans\n",
    "\n",
    "# import matplotlib\n",
    "import matplotlib.pyplot as plt"
   ]
  },
  {
   "cell_type": "code",
   "execution_count": 14,
   "id": "17f937b2-7014-4c9e-b713-47810563fa36",
   "metadata": {},
   "outputs": [],
   "source": [
    "# elbow rule\n",
    "def plot_inertia(df):\n",
    "    distortions = []\n",
    "    for i in range(1, 11):\n",
    "        km = KMeans(n_clusters=i,\n",
    "                    n_init=10,\n",
    "                    random_state=0)\n",
    "        km.fit(df)\n",
    "        distortions.append(km.inertia_)\n",
    "\n",
    "    fig, ax = plt.subplots(figsize=(15,8))\n",
    "    ax.plot(range(1,11), distortions, marker='o')\n",
    "    ax.set_xlabel('Number of clusters')\n",
    "    ax.set_ylabel('Distortion')\n",
    "    ax.set_title('Elbow method')\n",
    "    plt.show()"
   ]
  },
  {
   "cell_type": "code",
   "execution_count": 15,
   "id": "684b8e1d-0efc-4204-9c8c-fedb007bc81e",
   "metadata": {},
   "outputs": [
    {
     "name": "stderr",
     "output_type": "stream",
     "text": [
      "C:\\Users\\Eduardo\\anaconda3\\lib\\site-packages\\sklearn\\cluster\\_kmeans.py:1036: UserWarning: KMeans is known to have a memory leak on Windows with MKL, when there are less chunks than available threads. You can avoid it by setting the environment variable OMP_NUM_THREADS=3.\n",
      "  warnings.warn(\n"
     ]
    },
    {
     "data": {
      "image/png": "[encoded data removed]",
      "text/plain": [
       "<Figure size 1080x576 with 1 Axes>"
      ]
     },
     "metadata": {
      "needs_background": "light"
     },
     "output_type": "display_data"
    }
   ],
   "source": [
    "plot_inertia(customer_scaled)"
   ]
  },
  {
   "cell_type": "code",
   "execution_count": 16,
   "id": "96e00994-6edf-4896-8e18-c6256bd01f5c",
   "metadata": {},
   "outputs": [],
   "source": [
    "# assign cluster to customers\n",
    "customer_scaled['cluster'] = KMeans(n_clusters=4, n_init=10).fit_predict(customer_scaled)"
   ]
  },
  {
   "cell_type": "code",
   "execution_count": 17,
   "id": "d9d5d2f6-f2e9-463c-8280-81d34d5123df",
   "metadata": {},
   "outputs": [
    {
     "data": {
      "text/plain": [
       "2    250\n",
       "0    211\n",
       "1    168\n",
       "3    118\n",
       "Name: cluster, dtype: int64"
      ]
     },
     "execution_count": 17,
     "metadata": {},
     "output_type": "execute_result"
    }
   ],
   "source": [
    "# clusters size\n",
    "customer_scaled['cluster'].value_counts()"
   ]
  },
  {
   "cell_type": "code",
   "execution_count": 18,
   "id": "795ba61e-d97c-4b72-9fd1-0967c062ed37",
   "metadata": {},
   "outputs": [
    {
     "data": {
      "text/html": [
       "<div>\n",
       "<style scoped>\n",
       "    .dataframe tbody tr th:only-of-type {\n",
       "        vertical-align: middle;\n",
       "    }\n",
       "\n",
       "    .dataframe tbody tr th {\n",
       "        vertical-align: top;\n",
       "    }\n",
       "\n",
       "    .dataframe thead th {\n",
       "        text-align: right;\n",
       "    }\n",
       "</style>\n",
       "<table border=\"1\" class=\"dataframe\">\n",
       "  <thead>\n",
       "    <tr style=\"text-align: right;\">\n",
       "      <th></th>\n",
       "      <th>nbr_children</th>\n",
       "      <th>marital_status</th>\n",
       "      <th>age_bin</th>\n",
       "      <th>income_bin</th>\n",
       "      <th>F</th>\n",
       "      <th>M</th>\n",
       "    </tr>\n",
       "    <tr>\n",
       "      <th>cluster</th>\n",
       "      <th></th>\n",
       "      <th></th>\n",
       "      <th></th>\n",
       "      <th></th>\n",
       "      <th></th>\n",
       "      <th></th>\n",
       "    </tr>\n",
       "  </thead>\n",
       "  <tbody>\n",
       "    <tr>\n",
       "      <th>0</th>\n",
       "      <td>1.584509</td>\n",
       "      <td>1.504218</td>\n",
       "      <td>1.334509</td>\n",
       "      <td>1.546684</td>\n",
       "      <td>0.000000</td>\n",
       "      <td>2.270517</td>\n",
       "    </tr>\n",
       "    <tr>\n",
       "      <th>1</th>\n",
       "      <td>0.000000</td>\n",
       "      <td>0.067472</td>\n",
       "      <td>0.574106</td>\n",
       "      <td>0.528289</td>\n",
       "      <td>1.787081</td>\n",
       "      <td>0.000000</td>\n",
       "    </tr>\n",
       "    <tr>\n",
       "      <th>2</th>\n",
       "      <td>1.650674</td>\n",
       "      <td>1.627757</td>\n",
       "      <td>1.276503</td>\n",
       "      <td>1.016955</td>\n",
       "      <td>1.787081</td>\n",
       "      <td>0.000000</td>\n",
       "    </tr>\n",
       "    <tr>\n",
       "      <th>3</th>\n",
       "      <td>0.000000</td>\n",
       "      <td>0.096062</td>\n",
       "      <td>0.422400</td>\n",
       "      <td>0.658122</td>\n",
       "      <td>0.000000</td>\n",
       "      <td>2.270517</td>\n",
       "    </tr>\n",
       "  </tbody>\n",
       "</table>\n",
       "</div>"
      ],
      "text/plain": [
       "         nbr_children  marital_status   age_bin  income_bin        F   \\\n",
       "cluster                                                                 \n",
       "0            1.584509        1.504218  1.334509    1.546684  0.000000   \n",
       "1            0.000000        0.067472  0.574106    0.528289  1.787081   \n",
       "2            1.650674        1.627757  1.276503    1.016955  1.787081   \n",
       "3            0.000000        0.096062  0.422400    0.658122  0.000000   \n",
       "\n",
       "               M   \n",
       "cluster            \n",
       "0        2.270517  \n",
       "1        0.000000  \n",
       "2        0.000000  \n",
       "3        2.270517  "
      ]
     },
     "execution_count": 18,
     "metadata": {},
     "output_type": "execute_result"
    }
   ],
   "source": [
    "# data to radar chart\n",
    "df_radar = customer_scaled.groupby('cluster').mean().divide(customer_scaled.drop('cluster',axis=1).mean())\n",
    "# explore data\n",
    "df_radar.head()"
   ]
  },
  {
   "cell_type": "code",
   "execution_count": 19,
   "id": "e71e5d8a-6d1c-4830-a768-43da50e19c20",
   "metadata": {},
   "outputs": [],
   "source": [
    "# import plotly\n",
    "import plotly.graph_objects as go"
   ]
  },
  {
   "cell_type": "code",
   "execution_count": 20,
   "id": "6f1dc59e-fff7-423e-a344-a34dc1aead55",
   "metadata": {},
   "outputs": [],
   "source": [
    "# function that plots radar chart\n",
    "def plot_radarchart(df):\n",
    "    data = []\n",
    "    for i in range(0,len(df)):\n",
    "        data.append(go.Scatterpolar(r = df.iloc[i].values,\n",
    "                                    theta = df.iloc[i].index,\n",
    "                                    name = f'cluster{df.index[i]}',\n",
    "                                    fill = 'toself'))\n",
    "\n",
    "\n",
    "    layout = go.Layout(polar = dict(radialaxis = dict(visible = True)),\n",
    "                       showlegend = True)\n",
    "    fig = go.Figure(data = data, layout = layout)\n",
    "    fig.show()"
   ]
  },
  {
   "cell_type": "code",
   "execution_count": 47,
   "id": "f25a9055-6174-4a90-b926-d9ffaa5ed13c",
   "metadata": {},
   "outputs": [
    {
     "data": {
      "application/vnd.plotly.v1+json": {
       "config": {
        "plotlyServerURL": "https://plot.ly"
       },
       "data": [
        {
         "fill": "toself",
         "name": "cluster0",
         "r": [
          1.6229682556997926,
          1.5407280816771514,
          1.3229080782756477,
          1.5483213976737478,
          0,
          2.270516717325228
         ],
         "theta": [
          "nbr_children",
          "marital_status",
          "age_bin",
          "income_bin",
          "F ",
          "M "
         ],
         "type": "scatterpolar"
        },
        {
         "fill": "toself",
         "name": "cluster1",
         "r": [
          1.6506741573033707,
          1.6277572078907439,
          1.2765025996533796,
          1.0169554455445544,
          1.7870813397129188,
          0
         ],
         "theta": [
          "nbr_children",
          "marital_status",
          "age_bin",
          "income_bin",
          "F ",
          "M "
         ],
         "type": "scatterpolar"
        },
        {
         "fill": "toself",
         "name": "cluster2",
         "r": [
          0,
          0.09215737073910951,
          0.4789068774569895,
          0.691499637768655,
          0,
          2.270516717325228
         ],
         "theta": [
          "nbr_children",
          "marital_status",
          "age_bin",
          "income_bin",
          "F ",
          "M "
         ],
         "type": "scatterpolar"
        },
        {
         "fill": "toself",
         "name": "cluster3",
         "r": [
          0,
          0.06747236071970518,
          0.574105595444417,
          0.5282885431400283,
          1.7870813397129188,
          0
         ],
         "theta": [
          "nbr_children",
          "marital_status",
          "age_bin",
          "income_bin",
          "F ",
          "M "
         ],
         "type": "scatterpolar"
        }
       ],
       "layout": {
        "autosize": true,
        "dragmode": "zoom",
        "polar": {
         "angularaxis": {
          "type": "category"
         },
         "radialaxis": {
          "autorange": true,
          "range": [
           0,
           2.369234835469803
          ],
          "type": "linear",
          "visible": true
         }
        },
        "showlegend": true,
        "template": {
         "data": {
          "bar": [
           {
            "error_x": {
             "color": "#2a3f5f"
            },
            "error_y": {
             "color": "#2a3f5f"
            },
            "marker": {
             "line": {
              "color": "#E5ECF6",
              "width": 0.5
             },
             "pattern": {
              "fillmode": "overlay",
              "size": 10,
              "solidity": 0.2
             }
            },
            "type": "bar"
           }
          ],
          "barpolar": [
           {
            "marker": {
             "line": {
              "color": "#E5ECF6",
              "width": 0.5
             },
             "pattern": {
              "fillmode": "overlay",
              "size": 10,
              "solidity": 0.2
             }
            },
            "type": "barpolar"
           }
          ],
          "carpet": [
           {
            "aaxis": {
             "endlinecolor": "#2a3f5f",
             "gridcolor": "white",
             "linecolor": "white",
             "minorgridcolor": "white",
             "startlinecolor": "#2a3f5f"
            },
            "baxis": {
             "endlinecolor": "#2a3f5f",
             "gridcolor": "white",
             "linecolor": "white",
             "minorgridcolor": "white",
             "startlinecolor": "#2a3f5f"
            },
            "type": "carpet"
           }
          ],
          "choropleth": [
           {
            "colorbar": {
             "outlinewidth": 0,
             "ticks": ""
            },
            "type": "choropleth"
           }
          ],
          "contour": [
           {
            "colorbar": {
             "outlinewidth": 0,
             "ticks": ""
            },
            "colorscale": [
             [
              0,
              "#0d0887"
             ],
             [
              0.1111111111111111,
              "#46039f"
             ],
             [
              0.2222222222222222,
              "#7201a8"
             ],
             [
              0.3333333333333333,
              "#9c179e"
             ],
             [
              0.4444444444444444,
              "#bd3786"
             ],
             [
              0.5555555555555556,
              "#d8576b"
             ],
             [
              0.6666666666666666,
              "#ed7953"
             ],
             [
              0.7777777777777778,
              "#fb9f3a"
             ],
             [
              0.8888888888888888,
              "#fdca26"
             ],
             [
              1,
              "#f0f921"
             ]
            ],
            "type": "contour"
           }
          ],
          "contourcarpet": [
           {
            "colorbar": {
             "outlinewidth": 0,
             "ticks": ""
            },
            "type": "contourcarpet"
           }
          ],
          "heatmap": [
           {
            "colorbar": {
             "outlinewidth": 0,
             "ticks": ""
            },
            "colorscale": [
             [
              0,
              "#0d0887"
             ],
             [
              0.1111111111111111,
              "#46039f"
             ],
             [
              0.2222222222222222,
              "#7201a8"
             ],
             [
              0.3333333333333333,
              "#9c179e"
             ],
             [
              0.4444444444444444,
              "#bd3786"
             ],
             [
              0.5555555555555556,
              "#d8576b"
             ],
             [
              0.6666666666666666,
              "#ed7953"
             ],
             [
              0.7777777777777778,
              "#fb9f3a"
             ],
             [
              0.8888888888888888,
              "#fdca26"
             ],
             [
              1,
              "#f0f921"
             ]
            ],
            "type": "heatmap"
           }
          ],
          "heatmapgl": [
           {
            "colorbar": {
             "outlinewidth": 0,
             "ticks": ""
            },
            "colorscale": [
             [
              0,
              "#0d0887"
             ],
             [
              0.1111111111111111,
              "#46039f"
             ],
             [
              0.2222222222222222,
              "#7201a8"
             ],
             [
              0.3333333333333333,
              "#9c179e"
             ],
             [
              0.4444444444444444,
              "#bd3786"
             ],
             [
              0.5555555555555556,
              "#d8576b"
             ],
             [
              0.6666666666666666,
              "#ed7953"
             ],
             [
              0.7777777777777778,
              "#fb9f3a"
             ],
             [
              0.8888888888888888,
              "#fdca26"
             ],
             [
              1,
              "#f0f921"
             ]
            ],
            "type": "heatmapgl"
           }
          ],
          "histogram": [
           {
            "marker": {
             "pattern": {
              "fillmode": "overlay",
              "size": 10,
              "solidity": 0.2
             }
            },
            "type": "histogram"
           }
          ],
          "histogram2d": [
           {
            "colorbar": {
             "outlinewidth": 0,
             "ticks": ""
            },
            "colorscale": [
             [
              0,
              "#0d0887"
             ],
             [
              0.1111111111111111,
              "#46039f"
             ],
             [
              0.2222222222222222,
              "#7201a8"
             ],
             [
              0.3333333333333333,
              "#9c179e"
             ],
             [
              0.4444444444444444,
              "#bd3786"
             ],
             [
              0.5555555555555556,
              "#d8576b"
             ],
             [
              0.6666666666666666,
              "#ed7953"
             ],
             [
              0.7777777777777778,
              "#fb9f3a"
             ],
             [
              0.8888888888888888,
              "#fdca26"
             ],
             [
              1,
              "#f0f921"
             ]
            ],
            "type": "histogram2d"
           }
          ],
          "histogram2dcontour": [
           {
            "colorbar": {
             "outlinewidth": 0,
             "ticks": ""
            },
            "colorscale": [
             [
              0,
              "#0d0887"
             ],
             [
              0.1111111111111111,
              "#46039f"
             ],
             [
              0.2222222222222222,
              "#7201a8"
             ],
             [
              0.3333333333333333,
              "#9c179e"
             ],
             [
              0.4444444444444444,
              "#bd3786"
             ],
             [
              0.5555555555555556,
              "#d8576b"
             ],
             [
              0.6666666666666666,
              "#ed7953"
             ],
             [
              0.7777777777777778,
              "#fb9f3a"
             ],
             [
              0.8888888888888888,
              "#fdca26"
             ],
             [
              1,
              "#f0f921"
             ]
            ],
            "type": "histogram2dcontour"
           }
          ],
          "mesh3d": [
           {
            "colorbar": {
             "outlinewidth": 0,
             "ticks": ""
            },
            "type": "mesh3d"
           }
          ],
          "parcoords": [
           {
            "line": {
             "colorbar": {
              "outlinewidth": 0,
              "ticks": ""
             }
            },
            "type": "parcoords"
           }
          ],
          "pie": [
           {
            "automargin": true,
            "type": "pie"
           }
          ],
          "scatter": [
           {
            "fillpattern": {
             "fillmode": "overlay",
             "size": 10,
             "solidity": 0.2
            },
            "type": "scatter"
           }
          ],
          "scatter3d": [
           {
            "line": {
             "colorbar": {
              "outlinewidth": 0,
              "ticks": ""
             }
            },
            "marker": {
             "colorbar": {
              "outlinewidth": 0,
              "ticks": ""
             }
            },
            "type": "scatter3d"
           }
          ],
          "scattercarpet": [
           {
            "marker": {
             "colorbar": {
              "outlinewidth": 0,
              "ticks": ""
             }
            },
            "type": "scattercarpet"
           }
          ],
          "scattergeo": [
           {
            "marker": {
             "colorbar": {
              "outlinewidth": 0,
              "ticks": ""
             }
            },
            "type": "scattergeo"
           }
          ],
          "scattergl": [
           {
            "marker": {
             "colorbar": {
              "outlinewidth": 0,
              "ticks": ""
             }
            },
            "type": "scattergl"
           }
          ],
          "scattermapbox": [
           {
            "marker": {
             "colorbar": {
              "outlinewidth": 0,
              "ticks": ""
             }
            },
            "type": "scattermapbox"
           }
          ],
          "scatterpolar": [
           {
            "marker": {
             "colorbar": {
              "outlinewidth": 0,
              "ticks": ""
             }
            },
            "type": "scatterpolar"
           }
          ],
          "scatterpolargl": [
           {
            "marker": {
             "colorbar": {
              "outlinewidth": 0,
              "ticks": ""
             }
            },
            "type": "scatterpolargl"
           }
          ],
          "scatterternary": [
           {
            "marker": {
             "colorbar": {
              "outlinewidth": 0,
              "ticks": ""
             }
            },
            "type": "scatterternary"
           }
          ],
          "surface": [
           {
            "colorbar": {
             "outlinewidth": 0,
             "ticks": ""
            },
            "colorscale": [
             [
              0,
              "#0d0887"
             ],
             [
              0.1111111111111111,
              "#46039f"
             ],
             [
              0.2222222222222222,
              "#7201a8"
             ],
             [
              0.3333333333333333,
              "#9c179e"
             ],
             [
              0.4444444444444444,
              "#bd3786"
             ],
             [
              0.5555555555555556,
              "#d8576b"
             ],
             [
              0.6666666666666666,
              "#ed7953"
             ],
             [
              0.7777777777777778,
              "#fb9f3a"
             ],
             [
              0.8888888888888888,
              "#fdca26"
             ],
             [
              1,
              "#f0f921"
             ]
            ],
            "type": "surface"
           }
          ],
          "table": [
           {
            "cells": {
             "fill": {
              "color": "#EBF0F8"
             },
             "line": {
              "color": "white"
             }
            },
            "header": {
             "fill": {
              "color": "#C8D4E3"
             },
             "line": {
              "color": "white"
             }
            },
            "type": "table"
           }
          ]
         },
         "layout": {
          "annotationdefaults": {
           "arrowcolor": "#2a3f5f",
           "arrowhead": 0,
           "arrowwidth": 1
          },
          "autotypenumbers": "strict",
          "coloraxis": {
           "colorbar": {
            "outlinewidth": 0,
            "ticks": ""
           }
          },
          "colorscale": {
           "diverging": [
            [
             0,
             "#8e0152"
            ],
            [
             0.1,
             "#c51b7d"
            ],
            [
             0.2,
             "#de77ae"
            ],
            [
             0.3,
             "#f1b6da"
            ],
            [
             0.4,
             "#fde0ef"
            ],
            [
             0.5,
             "#f7f7f7"
            ],
            [
             0.6,
             "#e6f5d0"
            ],
            [
             0.7,
             "#b8e186"
            ],
            [
             0.8,
             "#7fbc41"
            ],
            [
             0.9,
             "#4d9221"
            ],
            [
             1,
             "#276419"
            ]
           ],
           "sequential": [
            [
             0,
             "#0d0887"
            ],
            [
             0.1111111111111111,
             "#46039f"
            ],
            [
             0.2222222222222222,
             "#7201a8"
            ],
            [
             0.3333333333333333,
             "#9c179e"
            ],
            [
             0.4444444444444444,
             "#bd3786"
            ],
            [
             0.5555555555555556,
             "#d8576b"
            ],
            [
             0.6666666666666666,
             "#ed7953"
            ],
            [
             0.7777777777777778,
             "#fb9f3a"
            ],
            [
             0.8888888888888888,
             "#fdca26"
            ],
            [
             1,
             "#f0f921"
            ]
           ],
           "sequentialminus": [
            [
             0,
             "#0d0887"
            ],
            [
             0.1111111111111111,
             "#46039f"
            ],
            [
             0.2222222222222222,
             "#7201a8"
            ],
            [
             0.3333333333333333,
             "#9c179e"
            ],
            [
             0.4444444444444444,
             "#bd3786"
            ],
            [
             0.5555555555555556,
             "#d8576b"
            ],
            [
             0.6666666666666666,
             "#ed7953"
            ],
            [
             0.7777777777777778,
             "#fb9f3a"
            ],
            [
             0.8888888888888888,
             "#fdca26"
            ],
            [
             1,
             "#f0f921"
            ]
           ]
          },
          "colorway": [
           "#636efa",
           "#EF553B",
           "#00cc96",
           "#ab63fa",
           "#FFA15A",
           "#19d3f3",
           "#FF6692",
           "#B6E880",
           "#FF97FF",
           "#FECB52"
          ],
          "font": {
           "color": "#2a3f5f"
          },
          "geo": {
           "bgcolor": "white",
           "lakecolor": "white",
           "landcolor": "#E5ECF6",
           "showlakes": true,
           "showland": true,
           "subunitcolor": "white"
          },
          "hoverlabel": {
           "align": "left"
          },
          "hovermode": "closest",
          "mapbox": {
           "style": "light"
          },
          "paper_bgcolor": "white",
          "plot_bgcolor": "#E5ECF6",
          "polar": {
           "angularaxis": {
            "gridcolor": "white",
            "linecolor": "white",
            "ticks": ""
           },
           "bgcolor": "#E5ECF6",
           "radialaxis": {
            "gridcolor": "white",
            "linecolor": "white",
            "ticks": ""
           }
          },
          "scene": {
           "xaxis": {
            "backgroundcolor": "#E5ECF6",
            "gridcolor": "white",
            "gridwidth": 2,
            "linecolor": "white",
            "showbackground": true,
            "ticks": "",
            "zerolinecolor": "white"
           },
           "yaxis": {
            "backgroundcolor": "#E5ECF6",
            "gridcolor": "white",
            "gridwidth": 2,
            "linecolor": "white",
            "showbackground": true,
            "ticks": "",
            "zerolinecolor": "white"
           },
           "zaxis": {
            "backgroundcolor": "#E5ECF6",
            "gridcolor": "white",
            "gridwidth": 2,
            "linecolor": "white",
            "showbackground": true,
            "ticks": "",
            "zerolinecolor": "white"
           }
          },
          "shapedefaults": {
           "line": {
            "color": "#2a3f5f"
           }
          },
          "ternary": {
           "aaxis": {
            "gridcolor": "white",
            "linecolor": "white",
            "ticks": ""
           },
           "baxis": {
            "gridcolor": "white",
            "linecolor": "white",
            "ticks": ""
           },
           "bgcolor": "#E5ECF6",
           "caxis": {
            "gridcolor": "white",
            "linecolor": "white",
            "ticks": ""
           }
          },
          "title": {
           "x": 0.05
          },
          "xaxis": {
           "automargin": true,
           "gridcolor": "white",
           "linecolor": "white",
           "ticks": "",
           "title": {
            "standoff": 15
           },
           "zerolinecolor": "white",
           "zerolinewidth": 2
          },
          "yaxis": {
           "automargin": true,
           "gridcolor": "white",
           "linecolor": "white",
           "ticks": "",
           "title": {
            "standoff": 15
           },
           "zerolinecolor": "white",
           "zerolinewidth": 2
          }
         }
        }
       }
      },
      "image/png": "[encoded data removed]",
      "text/html": [
       "<div>                            <div id=\"0c1031e7-10fa-4a35-9810-09728a237d42\" class=\"plotly-graph-div\" style=\"height:525px; width:100%;\"></div>            <script type=\"text/javascript\">                require([\"plotly\"], function(Plotly) {                    window.PLOTLYENV=window.PLOTLYENV || {};                                    if (document.getElementById(\"0c1031e7-10fa-4a35-9810-09728a237d42\")) {                    Plotly.newPlot(                        \"0c1031e7-10fa-4a35-9810-09728a237d42\",                        [{\"fill\":\"toself\",\"name\":\"cluster0\",\"r\":[1.6229682556997926,1.5407280816771514,1.3229080782756477,1.5483213976737478,0.0,2.270516717325228],\"theta\":[\"nbr_children\",\"marital_status\",\"age_bin\",\"income_bin\",\"F \",\"M \"],\"type\":\"scatterpolar\"},{\"fill\":\"toself\",\"name\":\"cluster1\",\"r\":[1.6506741573033707,1.6277572078907439,1.2765025996533796,1.0169554455445544,1.7870813397129188,0.0],\"theta\":[\"nbr_children\",\"marital_status\",\"age_bin\",\"income_bin\",\"F \",\"M \"],\"type\":\"scatterpolar\"},{\"fill\":\"toself\",\"name\":\"cluster2\",\"r\":[0.0,0.09215737073910951,0.4789068774569895,0.691499637768655,0.0,2.270516717325228],\"theta\":[\"nbr_children\",\"marital_status\",\"age_bin\",\"income_bin\",\"F \",\"M \"],\"type\":\"scatterpolar\"},{\"fill\":\"toself\",\"name\":\"cluster3\",\"r\":[0.0,0.06747236071970518,0.574105595444417,0.5282885431400283,1.7870813397129188,0.0],\"theta\":[\"nbr_children\",\"marital_status\",\"age_bin\",\"income_bin\",\"F \",\"M \"],\"type\":\"scatterpolar\"}],                        {\"polar\":{\"radialaxis\":{\"visible\":true}},\"showlegend\":true,\"template\":{\"data\":{\"histogram2dcontour\":[{\"type\":\"histogram2dcontour\",\"colorbar\":{\"outlinewidth\":0,\"ticks\":\"\"},\"colorscale\":[[0.0,\"#0d0887\"],[0.1111111111111111,\"#46039f\"],[0.2222222222222222,\"#7201a8\"],[0.3333333333333333,\"#9c179e\"],[0.4444444444444444,\"#bd3786\"],[0.5555555555555556,\"#d8576b\"],[0.6666666666666666,\"#ed7953\"],[0.7777777777777778,\"#fb9f3a\"],[0.8888888888888888,\"#fdca26\"],[1.0,\"#f0f921\"]]}],\"choropleth\":[{\"type\":\"choropleth\",\"colorbar\":{\"outlinewidth\":0,\"ticks\":\"\"}}],\"histogram2d\":[{\"type\":\"histogram2d\",\"colorbar\":{\"outlinewidth\":0,\"ticks\":\"\"},\"colorscale\":[[0.0,\"#0d0887\"],[0.1111111111111111,\"#46039f\"],[0.2222222222222222,\"#7201a8\"],[0.3333333333333333,\"#9c179e\"],[0.4444444444444444,\"#bd3786\"],[0.5555555555555556,\"#d8576b\"],[0.6666666666666666,\"#ed7953\"],[0.7777777777777778,\"#fb9f3a\"],[0.8888888888888888,\"#fdca26\"],[1.0,\"#f0f921\"]]}],\"heatmap\":[{\"type\":\"heatmap\",\"colorbar\":{\"outlinewidth\":0,\"ticks\":\"\"},\"colorscale\":[[0.0,\"#0d0887\"],[0.1111111111111111,\"#46039f\"],[0.2222222222222222,\"#7201a8\"],[0.3333333333333333,\"#9c179e\"],[0.4444444444444444,\"#bd3786\"],[0.5555555555555556,\"#d8576b\"],[0.6666666666666666,\"#ed7953\"],[0.7777777777777778,\"#fb9f3a\"],[0.8888888888888888,\"#fdca26\"],[1.0,\"#f0f921\"]]}],\"heatmapgl\":[{\"type\":\"heatmapgl\",\"colorbar\":{\"outlinewidth\":0,\"ticks\":\"\"},\"colorscale\":[[0.0,\"#0d0887\"],[0.1111111111111111,\"#46039f\"],[0.2222222222222222,\"#7201a8\"],[0.3333333333333333,\"#9c179e\"],[0.4444444444444444,\"#bd3786\"],[0.5555555555555556,\"#d8576b\"],[0.6666666666666666,\"#ed7953\"],[0.7777777777777778,\"#fb9f3a\"],[0.8888888888888888,\"#fdca26\"],[1.0,\"#f0f921\"]]}],\"contourcarpet\":[{\"type\":\"contourcarpet\",\"colorbar\":{\"outlinewidth\":0,\"ticks\":\"\"}}],\"contour\":[{\"type\":\"contour\",\"colorbar\":{\"outlinewidth\":0,\"ticks\":\"\"},\"colorscale\":[[0.0,\"#0d0887\"],[0.1111111111111111,\"#46039f\"],[0.2222222222222222,\"#7201a8\"],[0.3333333333333333,\"#9c179e\"],[0.4444444444444444,\"#bd3786\"],[0.5555555555555556,\"#d8576b\"],[0.6666666666666666,\"#ed7953\"],[0.7777777777777778,\"#fb9f3a\"],[0.8888888888888888,\"#fdca26\"],[1.0,\"#f0f921\"]]}],\"surface\":[{\"type\":\"surface\",\"colorbar\":{\"outlinewidth\":0,\"ticks\":\"\"},\"colorscale\":[[0.0,\"#0d0887\"],[0.1111111111111111,\"#46039f\"],[0.2222222222222222,\"#7201a8\"],[0.3333333333333333,\"#9c179e\"],[0.4444444444444444,\"#bd3786\"],[0.5555555555555556,\"#d8576b\"],[0.6666666666666666,\"#ed7953\"],[0.7777777777777778,\"#fb9f3a\"],[0.8888888888888888,\"#fdca26\"],[1.0,\"#f0f921\"]]}],\"mesh3d\":[{\"type\":\"mesh3d\",\"colorbar\":{\"outlinewidth\":0,\"ticks\":\"\"}}],\"scatter\":[{\"fillpattern\":{\"fillmode\":\"overlay\",\"size\":10,\"solidity\":0.2},\"type\":\"scatter\"}],\"parcoords\":[{\"type\":\"parcoords\",\"line\":{\"colorbar\":{\"outlinewidth\":0,\"ticks\":\"\"}}}],\"scatterpolargl\":[{\"type\":\"scatterpolargl\",\"marker\":{\"colorbar\":{\"outlinewidth\":0,\"ticks\":\"\"}}}],\"bar\":[{\"error_x\":{\"color\":\"#2a3f5f\"},\"error_y\":{\"color\":\"#2a3f5f\"},\"marker\":{\"line\":{\"color\":\"#E5ECF6\",\"width\":0.5},\"pattern\":{\"fillmode\":\"overlay\",\"size\":10,\"solidity\":0.2}},\"type\":\"bar\"}],\"scattergeo\":[{\"type\":\"scattergeo\",\"marker\":{\"colorbar\":{\"outlinewidth\":0,\"ticks\":\"\"}}}],\"scatterpolar\":[{\"type\":\"scatterpolar\",\"marker\":{\"colorbar\":{\"outlinewidth\":0,\"ticks\":\"\"}}}],\"histogram\":[{\"marker\":{\"pattern\":{\"fillmode\":\"overlay\",\"size\":10,\"solidity\":0.2}},\"type\":\"histogram\"}],\"scattergl\":[{\"type\":\"scattergl\",\"marker\":{\"colorbar\":{\"outlinewidth\":0,\"ticks\":\"\"}}}],\"scatter3d\":[{\"type\":\"scatter3d\",\"line\":{\"colorbar\":{\"outlinewidth\":0,\"ticks\":\"\"}},\"marker\":{\"colorbar\":{\"outlinewidth\":0,\"ticks\":\"\"}}}],\"scattermapbox\":[{\"type\":\"scattermapbox\",\"marker\":{\"colorbar\":{\"outlinewidth\":0,\"ticks\":\"\"}}}],\"scatterternary\":[{\"type\":\"scatterternary\",\"marker\":{\"colorbar\":{\"outlinewidth\":0,\"ticks\":\"\"}}}],\"scattercarpet\":[{\"type\":\"scattercarpet\",\"marker\":{\"colorbar\":{\"outlinewidth\":0,\"ticks\":\"\"}}}],\"carpet\":[{\"aaxis\":{\"endlinecolor\":\"#2a3f5f\",\"gridcolor\":\"white\",\"linecolor\":\"white\",\"minorgridcolor\":\"white\",\"startlinecolor\":\"#2a3f5f\"},\"baxis\":{\"endlinecolor\":\"#2a3f5f\",\"gridcolor\":\"white\",\"linecolor\":\"white\",\"minorgridcolor\":\"white\",\"startlinecolor\":\"#2a3f5f\"},\"type\":\"carpet\"}],\"table\":[{\"cells\":{\"fill\":{\"color\":\"#EBF0F8\"},\"line\":{\"color\":\"white\"}},\"header\":{\"fill\":{\"color\":\"#C8D4E3\"},\"line\":{\"color\":\"white\"}},\"type\":\"table\"}],\"barpolar\":[{\"marker\":{\"line\":{\"color\":\"#E5ECF6\",\"width\":0.5},\"pattern\":{\"fillmode\":\"overlay\",\"size\":10,\"solidity\":0.2}},\"type\":\"barpolar\"}],\"pie\":[{\"automargin\":true,\"type\":\"pie\"}]},\"layout\":{\"autotypenumbers\":\"strict\",\"colorway\":[\"#636efa\",\"#EF553B\",\"#00cc96\",\"#ab63fa\",\"#FFA15A\",\"#19d3f3\",\"#FF6692\",\"#B6E880\",\"#FF97FF\",\"#FECB52\"],\"font\":{\"color\":\"#2a3f5f\"},\"hovermode\":\"closest\",\"hoverlabel\":{\"align\":\"left\"},\"paper_bgcolor\":\"white\",\"plot_bgcolor\":\"#E5ECF6\",\"polar\":{\"bgcolor\":\"#E5ECF6\",\"angularaxis\":{\"gridcolor\":\"white\",\"linecolor\":\"white\",\"ticks\":\"\"},\"radialaxis\":{\"gridcolor\":\"white\",\"linecolor\":\"white\",\"ticks\":\"\"}},\"ternary\":{\"bgcolor\":\"#E5ECF6\",\"aaxis\":{\"gridcolor\":\"white\",\"linecolor\":\"white\",\"ticks\":\"\"},\"baxis\":{\"gridcolor\":\"white\",\"linecolor\":\"white\",\"ticks\":\"\"},\"caxis\":{\"gridcolor\":\"white\",\"linecolor\":\"white\",\"ticks\":\"\"}},\"coloraxis\":{\"colorbar\":{\"outlinewidth\":0,\"ticks\":\"\"}},\"colorscale\":{\"sequential\":[[0.0,\"#0d0887\"],[0.1111111111111111,\"#46039f\"],[0.2222222222222222,\"#7201a8\"],[0.3333333333333333,\"#9c179e\"],[0.4444444444444444,\"#bd3786\"],[0.5555555555555556,\"#d8576b\"],[0.6666666666666666,\"#ed7953\"],[0.7777777777777778,\"#fb9f3a\"],[0.8888888888888888,\"#fdca26\"],[1.0,\"#f0f921\"]],\"sequentialminus\":[[0.0,\"#0d0887\"],[0.1111111111111111,\"#46039f\"],[0.2222222222222222,\"#7201a8\"],[0.3333333333333333,\"#9c179e\"],[0.4444444444444444,\"#bd3786\"],[0.5555555555555556,\"#d8576b\"],[0.6666666666666666,\"#ed7953\"],[0.7777777777777778,\"#fb9f3a\"],[0.8888888888888888,\"#fdca26\"],[1.0,\"#f0f921\"]],\"diverging\":[[0,\"#8e0152\"],[0.1,\"#c51b7d\"],[0.2,\"#de77ae\"],[0.3,\"#f1b6da\"],[0.4,\"#fde0ef\"],[0.5,\"#f7f7f7\"],[0.6,\"#e6f5d0\"],[0.7,\"#b8e186\"],[0.8,\"#7fbc41\"],[0.9,\"#4d9221\"],[1,\"#276419\"]]},\"xaxis\":{\"gridcolor\":\"white\",\"linecolor\":\"white\",\"ticks\":\"\",\"title\":{\"standoff\":15},\"zerolinecolor\":\"white\",\"automargin\":true,\"zerolinewidth\":2},\"yaxis\":{\"gridcolor\":\"white\",\"linecolor\":\"white\",\"ticks\":\"\",\"title\":{\"standoff\":15},\"zerolinecolor\":\"white\",\"automargin\":true,\"zerolinewidth\":2},\"scene\":{\"xaxis\":{\"backgroundcolor\":\"#E5ECF6\",\"gridcolor\":\"white\",\"linecolor\":\"white\",\"showbackground\":true,\"ticks\":\"\",\"zerolinecolor\":\"white\",\"gridwidth\":2},\"yaxis\":{\"backgroundcolor\":\"#E5ECF6\",\"gridcolor\":\"white\",\"linecolor\":\"white\",\"showbackground\":true,\"ticks\":\"\",\"zerolinecolor\":\"white\",\"gridwidth\":2},\"zaxis\":{\"backgroundcolor\":\"#E5ECF6\",\"gridcolor\":\"white\",\"linecolor\":\"white\",\"showbackground\":true,\"ticks\":\"\",\"zerolinecolor\":\"white\",\"gridwidth\":2}},\"shapedefaults\":{\"line\":{\"color\":\"#2a3f5f\"}},\"annotationdefaults\":{\"arrowcolor\":\"#2a3f5f\",\"arrowhead\":0,\"arrowwidth\":1},\"geo\":{\"bgcolor\":\"white\",\"landcolor\":\"#E5ECF6\",\"subunitcolor\":\"white\",\"showland\":true,\"showlakes\":true,\"lakecolor\":\"white\"},\"title\":{\"x\":0.05},\"mapbox\":{\"style\":\"light\"}}}},                        {\"responsive\": true}                    ).then(function(){\n",
       "                            \n",
       "var gd = document.getElementById('0c1031e7-10fa-4a35-9810-09728a237d42');\n",
       "var x = new MutationObserver(function (mutations, observer) {{\n",
       "        var display = window.getComputedStyle(gd).display;\n",
       "        if (!display || display === 'none') {{\n",
       "            console.log([gd, 'removed!']);\n",
       "            Plotly.purge(gd);\n",
       "            observer.disconnect();\n",
       "        }}\n",
       "}});\n",
       "\n",
       "// Listen for the removal of the full notebook cells\n",
       "var notebookContainer = gd.closest('#notebook-container');\n",
       "if (notebookContainer) {{\n",
       "    x.observe(notebookContainer, {childList: true});\n",
       "}}\n",
       "\n",
       "// Listen for the clearing of the current output cell\n",
       "var outputEl = gd.closest('.output');\n",
       "if (outputEl) {{\n",
       "    x.observe(outputEl, {childList: true});\n",
       "}}\n",
       "\n",
       "                        })                };                });            </script>        </div>"
      ]
     },
     "metadata": {},
     "output_type": "display_data"
    }
   ],
   "source": [
    "plot_radarchart(df_radar)"
   ]
  },
  {
   "cell_type": "code",
   "execution_count": 175,
   "id": "fb5acf98-73c4-4f06-b6ad-7c60b8275289",
   "metadata": {},
   "outputs": [],
   "source": []
  },
  {
   "cell_type": "code",
   "execution_count": null,
   "id": "43a99371-59f6-4fc5-bb78-54266d7939af",
   "metadata": {},
   "outputs": [],
   "source": []
  },
  {
   "cell_type": "code",
   "execution_count": null,
   "id": "af0fbfba-a380-4cae-8736-c3de7cd6b27e",
   "metadata": {},
   "outputs": [],
   "source": []
  },
  {
   "cell_type": "code",
   "execution_count": null,
   "id": "2d3f7aeb-c9f4-40de-9120-8579f245568a",
   "metadata": {},
   "outputs": [],
   "source": []
  }
 ],
 "metadata": {
  "kernelspec": {
   "display_name": "Python 3 (ipykernel)",
   "language": "python",
   "name": "python3"
  },
  "language_info": {
   "codemirror_mode": {
    "name": "ipython",
    "version": 3
   },
   "file_extension": ".py",
   "mimetype": "text/x-python",
   "name": "python",
   "nbconvert_exporter": "python",
   "pygments_lexer": "ipython3",
   "version": "3.9.7"
  }
 },
 "nbformat": 4,
 "nbformat_minor": 5
}
